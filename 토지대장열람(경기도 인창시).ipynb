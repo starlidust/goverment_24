{
 "cells": [
  {
   "cell_type": "code",
   "execution_count": 1,
   "metadata": {
    "ExecuteTime": {
     "end_time": "2021-03-11T06:55:29.234155Z",
     "start_time": "2021-03-11T06:55:29.059855Z"
    }
   },
   "outputs": [],
   "source": [
    "from selenium.webdriver.chrome.options import Options\n",
    "from selenium import webdriver\n",
    "from selenium.webdriver.support import expected_conditions as EC\n",
    "from selenium.webdriver.common.by import By\n",
    "from selenium.webdriver.support.ui import WebDriverWait\n",
    "from selenium.common.exceptions import UnexpectedAlertPresentException\n",
    "from bs4 import BeautifulSoup\n",
    "import time\n",
    "from tqdm.notebook import tqdm"
   ]
  },
  {
   "cell_type": "code",
   "execution_count": 32,
   "metadata": {
    "ExecuteTime": {
     "end_time": "2021-03-11T07:31:01.834752Z",
     "start_time": "2021-03-11T07:31:01.818749Z"
    }
   },
   "outputs": [],
   "source": [
    "#토지대장 열람신청 입구\n",
    "url = 'https://www.gov.kr/mw/AA020InfoCappView.do?HighCtgCD=A09005&CappBizCD=13100000026&tp_seq=01'\n",
    "# address = address_list[3]"
   ]
  },
  {
   "cell_type": "code",
   "execution_count": 33,
   "metadata": {
    "ExecuteTime": {
     "end_time": "2021-03-11T07:31:05.522750Z",
     "start_time": "2021-03-11T07:31:02.093281Z"
    }
   },
   "outputs": [
    {
     "name": "stderr",
     "output_type": "stream",
     "text": [
      "C:\\Users\\User\\Anaconda3\\lib\\site-packages\\ipykernel_launcher.py:5: DeprecationWarning: use options instead of chrome_options\n",
      "  \"\"\"\n"
     ]
    }
   ],
   "source": [
    "headers = {'user-agent': 'Mozilla/5.0 (Windows NT 10.0; Win64; x64) AppleWebKit/537.36 (KHTML, like Gecko) Chrome/79.0.3945.130 Safari/537.36'}\n",
    "options = Options()\n",
    "options.add_argument('--start-maximized') #big size\n",
    "options.add_argument(f'user-agent={headers}')\n",
    "driver = webdriver.Chrome(executable_path='./chromedriver', chrome_options=options)"
   ]
  },
  {
   "cell_type": "markdown",
   "metadata": {},
   "source": [
    "### 반자동화"
   ]
  },
  {
   "cell_type": "code",
   "execution_count": 34,
   "metadata": {
    "ExecuteTime": {
     "end_time": "2021-03-11T07:31:16.645330Z",
     "start_time": "2021-03-11T07:31:14.418705Z"
    }
   },
   "outputs": [],
   "source": [
    "#로그인 이후 돌아가기\n",
    "driver.get(url)\n",
    "time.sleep(0.5)\n",
    "#신청하기버튼\n",
    "ele = driver.find_element_by_css_selector('#applyBtn > a')\n",
    "ele.click()"
   ]
  },
  {
   "cell_type": "code",
   "execution_count": 27,
   "metadata": {
    "ExecuteTime": {
     "end_time": "2021-03-11T07:24:17.758343Z",
     "start_time": "2021-03-11T07:24:17.731337Z"
    }
   },
   "outputs": [],
   "source": [
    "data = pd.read_excel('./토지대장/경기도 인창시 토지분석.xlsx')"
   ]
  },
  {
   "cell_type": "code",
   "execution_count": 28,
   "metadata": {
    "ExecuteTime": {
     "end_time": "2021-03-11T07:24:17.996918Z",
     "start_time": "2021-03-11T07:24:17.986915Z"
    }
   },
   "outputs": [],
   "source": [
    "def split_bar(x,i):\n",
    "    if i == 0:\n",
    "        try:\n",
    "            a = x.split('-')[i]\n",
    "        except:\n",
    "            a = x\n",
    "    else:\n",
    "        try:\n",
    "            a = x.split('-')[i]\n",
    "        except:\n",
    "            a = ''\n",
    "    return a\n",
    "    "
   ]
  },
  {
   "cell_type": "code",
   "execution_count": 29,
   "metadata": {
    "ExecuteTime": {
     "end_time": "2021-03-11T07:24:18.170427Z",
     "start_time": "2021-03-11T07:24:18.155424Z"
    }
   },
   "outputs": [],
   "source": [
    "#a_5_0 : 본번, a5_1 : 부번, a2 주소 \n",
    "import re\n",
    "pattern = re.compile('[0-9\\-]+')\n",
    "\n",
    "# #안나눠져 있는경우\n",
    "# data['A5'] = data['A6'].apply(lambda x : re.findall(pattern, x)[0])\n",
    "# a5_0 = data['본번'].apply(lambda x : split_bar(x,0))\n",
    "# a5_1 = data['부번'].apply(lambda x : split_bar(x,1))\n",
    "a5_0 = data['본번']\n",
    "a5_1 = data['부번']\n",
    "mountain = data['지목'].apply(lambda x: x[0] == '산')\n",
    "a2 = data['주소']"
   ]
  },
  {
   "cell_type": "code",
   "execution_count": 35,
   "metadata": {
    "ExecuteTime": {
     "end_time": "2021-03-11T07:47:48.919396Z",
     "start_time": "2021-03-11T07:31:36.660811Z"
    },
    "scrolled": true
   },
   "outputs": [
    {
     "data": {
      "application/vnd.jupyter.widget-view+json": {
       "model_id": "29041b2a5f2a4254ba284659e6b8a0f2",
       "version_major": 2,
       "version_minor": 0
      },
      "text/plain": [
       "HBox(children=(FloatProgress(value=0.0, max=47.0), HTML(value='')))"
      ]
     },
     "metadata": {},
     "output_type": "display_data"
    },
    {
     "name": "stdout",
     "output_type": "stream",
     "text": [
      "\n"
     ]
    }
   ],
   "source": [
    "error_ls = [] #에러저장\n",
    "#for문 \n",
    "for i in tqdm(range(0, len(data))):\n",
    "    try :\n",
    "        #로그인 이후 돌아가기\n",
    "        driver.get(url)\n",
    "        time.sleep(0.5)\n",
    "        #신청하기버튼\n",
    "        ele = driver.find_element_by_css_selector('#applyBtn > a')\n",
    "        ele.click()\n",
    "        wait = WebDriverWait(driver, 360).until(EC.element_to_be_clickable((By.CLASS_NAME, 'data-row-span-2')), 'Timed out waiting for loading')\n",
    "        \n",
    "        #열람의 경우(출력으로하는 경우 주석처리)\n",
    "        ele = driver.find_element_by_css_selector('body > div.contentsWrap > div > div.form-inner > div.element-tab > a:nth-child(3)')\n",
    "        ele.click()\n",
    "        wait = WebDriverWait(driver, 360).until(EC.element_to_be_clickable((By.CLASS_NAME, 'data-row-span-2')), 'Timed out waiting for loading')\n",
    "\n",
    "        #임야구분\n",
    "        if mountain[i]:\n",
    "            ele = driver.find_element_by_css_selector('#토지임야대장신청서_IN-토지임야대장신청서_대장구분_\\.라디오코드_2')\n",
    "            ele.click()\n",
    "\n",
    "        #연혁인쇄\n",
    "        ele = driver.find_element_by_css_selector('#토지임야대장신청서_IN-토지임야대장신청서_연혁인쇄선택_\\.라디오코드_1')\n",
    "        ele.click()\n",
    "        #소유자 주민번호 뒷자리\n",
    "        ele = driver.find_element_by_css_selector('#토지임야대장신청서_IN-토지임야대장신청서_소유자주번뒷자리표시\\.라디오코드_1')\n",
    "        ele.click()\n",
    "\n",
    "        #검색버튼\n",
    "        ele = driver.find_element_by_css_selector('#btnAddress')\n",
    "        ele.click()\n",
    "\n",
    "        #팝업창이동\n",
    "        all_windows = driver.window_handles \n",
    "        parent_window = all_windows[0] \n",
    "        child_window = all_windows[1] \n",
    "        driver.switch_to.window(child_window) \n",
    "        time.sleep(1)\n",
    "\n",
    "        #검색입력\n",
    "        ele = driver.find_element_by_css_selector('#txtAddr')\n",
    "        address = a2[i]\n",
    "        ele.send_keys(address)\n",
    "        time.sleep(1)\n",
    "\n",
    "        #검색클릭\n",
    "        ele = driver.find_element_by_css_selector('#frm_popup > fieldset > div > div > span > button')\n",
    "        ele.click()\n",
    "        time.sleep(1)\n",
    "\n",
    "        #검색결과에서 유사한 주소 색출(파주시, xx리)\n",
    "        a = address.split(' ')[1]\n",
    "        b = b = address.split(' ')[-1]\n",
    "\n",
    "        ele = driver.find_element_by_css_selector(f'#resultList')\n",
    "        temp = ele.text.split('\\n')\n",
    "        temp = pd.Series([(a in x)&(b in x) for x in temp])\n",
    "        postion  = temp[temp == True].index[0]+1\n",
    "\n",
    "        ele = driver.find_element_by_css_selector(f'#resultList > a:nth-child({postion}) > dl > dd > div')\n",
    "        ele.click()\n",
    "        time.sleep(0.5)\n",
    "        #복귀\n",
    "        driver.switch_to.window(parent_window) \n",
    "\n",
    "        #번지호 입력\n",
    "        ele = driver.find_element_by_css_selector('#토지임야대장신청서_IN-토지임야대장신청서_신청토지소재지_주소정보_상세주소_번지')\n",
    "        ele.send_keys(str(a5_0[i]))\n",
    "        ele = driver.find_element_by_css_selector('#토지임야대장신청서_IN-토지임야대장신청서_신청토지소재지_주소정보_상세주소_호')\n",
    "        ele.send_keys(str(a5_1[i]))\n",
    "\n",
    "        #출력신청\n",
    "        ele = driver.find_element_by_css_selector('#btn_end')\n",
    "        ele.click()\n",
    "\n",
    "        #출력대기\n",
    "        time.sleep(1)\n",
    "        wait = WebDriverWait(driver, 180).until(EC.element_to_be_clickable((By.ID, 'srch')), 'Timed out waiting for loading')\n",
    "    except UnexpectedAlertPresentException:\n",
    "        error_ls.append(i)\n",
    "        print(f'출력실패_{i}')\n",
    "        pass"
   ]
  },
  {
   "cell_type": "markdown",
   "metadata": {},
   "source": [
    "### 에러체크\n",
    "* address 지정안되있었음"
   ]
  },
  {
   "cell_type": "code",
   "execution_count": 36,
   "metadata": {
    "ExecuteTime": {
     "end_time": "2021-03-11T07:47:48.982410Z",
     "start_time": "2021-03-11T07:47:48.967407Z"
    }
   },
   "outputs": [
    {
     "data": {
      "text/plain": [
       "[]"
      ]
     },
     "execution_count": 36,
     "metadata": {},
     "output_type": "execute_result"
    }
   ],
   "source": [
    "error_ls"
   ]
  },
  {
   "cell_type": "code",
   "execution_count": 37,
   "metadata": {
    "ExecuteTime": {
     "end_time": "2021-03-11T07:47:49.044995Z",
     "start_time": "2021-03-11T07:47:49.031426Z"
    }
   },
   "outputs": [],
   "source": [
    "for i in error_ls:\n",
    "    print(a5_0[i],a5_1[i],mountain[i],a2[i])"
   ]
  },
  {
   "cell_type": "markdown",
   "metadata": {},
   "source": [
    "### 작업용"
   ]
  },
  {
   "cell_type": "code",
   "execution_count": 204,
   "metadata": {
    "ExecuteTime": {
     "end_time": "2021-02-08T07:45:30.779956Z",
     "start_time": "2021-02-08T07:45:30.776955Z"
    }
   },
   "outputs": [],
   "source": [
    "i = 60"
   ]
  },
  {
   "cell_type": "code",
   "execution_count": 205,
   "metadata": {
    "ExecuteTime": {
     "end_time": "2021-02-08T07:45:31.236637Z",
     "start_time": "2021-02-08T07:45:31.233638Z"
    }
   },
   "outputs": [],
   "source": [
    "address = a2[i]"
   ]
  },
  {
   "cell_type": "code",
   "execution_count": 206,
   "metadata": {
    "ExecuteTime": {
     "end_time": "2021-02-08T07:45:31.757239Z",
     "start_time": "2021-02-08T07:45:31.681223Z"
    }
   },
   "outputs": [],
   "source": [
    "#임야구분\n",
    "if mountain[i]:\n",
    "    ele = driver.find_element_by_css_selector('#토지임야대장신청서_IN-토지임야대장신청서_대장구분_\\.라디오코드_2')\n",
    "    ele.click()\n",
    "\n",
    "#연혁인쇄\n",
    "ele = driver.find_element_by_css_selector('#토지임야대장신청서_IN-토지임야대장신청서_연혁인쇄선택_\\.라디오코드_1')\n",
    "ele.click()\n",
    "#소유자 주민번호 뒷자리\n",
    "ele = driver.find_element_by_css_selector('#토지임야대장신청서_IN-토지임야대장신청서_소유자주번뒷자리표시\\.라디오코드_1')\n",
    "ele.click()"
   ]
  },
  {
   "cell_type": "code",
   "execution_count": 207,
   "metadata": {
    "ExecuteTime": {
     "end_time": "2021-02-08T07:45:32.318364Z",
     "start_time": "2021-02-08T07:45:32.201340Z"
    }
   },
   "outputs": [],
   "source": [
    "#검색버튼\n",
    "ele = driver.find_element_by_css_selector('#btnAddress')\n",
    "ele.click()"
   ]
  },
  {
   "cell_type": "code",
   "execution_count": 208,
   "metadata": {
    "ExecuteTime": {
     "end_time": "2021-02-08T07:45:37.268433Z",
     "start_time": "2021-02-08T07:45:33.201522Z"
    }
   },
   "outputs": [],
   "source": [
    "#팝업창이동\n",
    "all_windows = driver.window_handles \n",
    "parent_window = all_windows[0] \n",
    "child_window = all_windows[1] \n",
    "driver.switch_to.window(child_window) \n",
    "time.sleep(1)\n",
    "\n",
    "#검색입력\n",
    "ele = driver.find_element_by_css_selector('#txtAddr')\n",
    "ele.send_keys(address)\n",
    "time.sleep(1)\n"
   ]
  },
  {
   "cell_type": "code",
   "execution_count": 209,
   "metadata": {
    "ExecuteTime": {
     "end_time": "2021-02-08T07:45:39.090842Z",
     "start_time": "2021-02-08T07:45:37.312443Z"
    }
   },
   "outputs": [],
   "source": [
    "#검색클릭\n",
    "ele = driver.find_element_by_css_selector('#frm_popup > fieldset > div > div > span > button')\n",
    "ele.click()\n",
    "time.sleep(1)"
   ]
  },
  {
   "cell_type": "code",
   "execution_count": 210,
   "metadata": {
    "ExecuteTime": {
     "end_time": "2021-02-08T07:45:39.531941Z",
     "start_time": "2021-02-08T07:45:39.136853Z"
    }
   },
   "outputs": [],
   "source": [
    "#검색결과에서 유사한 주소 색출(파주시, xx동)\n",
    "a = address.split(' ')[1]\n",
    "b = address.split(' ')[2]\n",
    "\n",
    "ele = driver.find_element_by_css_selector(f'#resultList')\n",
    "temp = ele.text.split('\\n')\n",
    "temp = pd.Series([(a in x)&(b in x) for x in temp])\n",
    "postion  = temp[temp == True].index[0]+1\n",
    "\n",
    "ele = driver.find_element_by_css_selector(f'#resultList > a:nth-child({postion}) > dl > dd > div')\n",
    "ele.click()"
   ]
  },
  {
   "cell_type": "code",
   "execution_count": 211,
   "metadata": {
    "ExecuteTime": {
     "end_time": "2021-02-08T07:45:40.681878Z",
     "start_time": "2021-02-08T07:45:39.579951Z"
    }
   },
   "outputs": [
    {
     "name": "stdout",
     "output_type": "stream",
     "text": [
      "60 1477\n"
     ]
    }
   ],
   "source": [
    "#복귀\n",
    "driver.switch_to.window(parent_window) \n",
    "\n",
    "#번지호 입력\n",
    "ele = driver.find_element_by_css_selector('#토지임야대장신청서_IN-토지임야대장신청서_신청토지소재지_주소정보_상세주소_번지')\n",
    "bunji = a5_0[i]\n",
    "print(i,bunji)\n",
    "time.sleep(1)\n",
    "ele.send_keys(bunji)\n",
    "ele = driver.find_element_by_css_selector('#토지임야대장신청서_IN-토지임야대장신청서_신청토지소재지_주소정보_상세주소_호')\n",
    "ho = a5_1[i]\n",
    "ele.send_keys(ho)\n",
    "\n"
   ]
  },
  {
   "cell_type": "code",
   "execution_count": 212,
   "metadata": {
    "ExecuteTime": {
     "end_time": "2021-02-08T07:45:40.728888Z",
     "start_time": "2021-02-08T07:45:40.725887Z"
    }
   },
   "outputs": [
    {
     "data": {
      "text/plain": [
       "('1477', '')"
      ]
     },
     "execution_count": 212,
     "metadata": {},
     "output_type": "execute_result"
    }
   ],
   "source": [
    "bunji,ho"
   ]
  },
  {
   "cell_type": "code",
   "execution_count": 213,
   "metadata": {
    "ExecuteTime": {
     "end_time": "2021-02-08T07:45:40.851143Z",
     "start_time": "2021-02-08T07:45:40.774154Z"
    }
   },
   "outputs": [],
   "source": [
    "#출력신청\n",
    "ele = driver.find_element_by_css_selector('#btn_end')\n",
    "ele.click()"
   ]
  }
 ],
 "metadata": {
  "kernelspec": {
   "display_name": "Python 3",
   "language": "python",
   "name": "python3"
  },
  "language_info": {
   "codemirror_mode": {
    "name": "ipython",
    "version": 3
   },
   "file_extension": ".py",
   "mimetype": "text/x-python",
   "name": "python",
   "nbconvert_exporter": "python",
   "pygments_lexer": "ipython3",
   "version": "3.6.5"
  },
  "toc": {
   "base_numbering": 1,
   "nav_menu": {},
   "number_sections": true,
   "sideBar": true,
   "skip_h1_title": false,
   "title_cell": "Table of Contents",
   "title_sidebar": "Contents",
   "toc_cell": false,
   "toc_position": {},
   "toc_section_display": true,
   "toc_window_display": false
  },
  "varInspector": {
   "cols": {
    "lenName": 16,
    "lenType": 16,
    "lenVar": 40
   },
   "kernels_config": {
    "python": {
     "delete_cmd_postfix": "",
     "delete_cmd_prefix": "del ",
     "library": "var_list.py",
     "varRefreshCmd": "print(var_dic_list())"
    },
    "r": {
     "delete_cmd_postfix": ") ",
     "delete_cmd_prefix": "rm(",
     "library": "var_list.r",
     "varRefreshCmd": "cat(var_dic_list()) "
    }
   },
   "types_to_exclude": [
    "module",
    "function",
    "builtin_function_or_method",
    "instance",
    "_Feature"
   ],
   "window_display": false
  }
 },
 "nbformat": 4,
 "nbformat_minor": 2
}
