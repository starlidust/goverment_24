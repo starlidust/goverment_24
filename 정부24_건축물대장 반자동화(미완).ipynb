{
 "cells": [
  {
   "cell_type": "code",
   "execution_count": 2,
   "metadata": {
    "ExecuteTime": {
     "end_time": "2021-03-25T04:37:34.334793Z",
     "start_time": "2021-03-25T04:37:34.323782Z"
    }
   },
   "outputs": [],
   "source": [
    "from selenium.webdriver.chrome.options import Options\n",
    "from selenium import webdriver\n",
    "from selenium.webdriver.support import expected_conditions as EC\n",
    "from selenium.webdriver.common.by import By\n",
    "from selenium.webdriver.support.ui import WebDriverWait\n",
    "from bs4 import BeautifulSoup\n",
    "import time\n",
    "from tqdm.notebook import tqdm"
   ]
  },
  {
   "cell_type": "code",
   "execution_count": 3,
   "metadata": {
    "ExecuteTime": {
     "end_time": "2021-03-25T04:37:34.680839Z",
     "start_time": "2021-03-25T04:37:34.667837Z"
    }
   },
   "outputs": [],
   "source": [
    "fin_dict = dict()"
   ]
  },
  {
   "cell_type": "code",
   "execution_count": 191,
   "metadata": {
    "ExecuteTime": {
     "end_time": "2021-03-25T06:09:35.234415Z",
     "start_time": "2021-03-25T06:09:35.217411Z"
    }
   },
   "outputs": [],
   "source": [
    "df = pd.read_excel('./target.xlsx')\n",
    "address_list = df['주소'].values"
   ]
  },
  {
   "cell_type": "code",
   "execution_count": 185,
   "metadata": {
    "ExecuteTime": {
     "end_time": "2021-03-25T06:08:44.024254Z",
     "start_time": "2021-03-25T06:08:42.697965Z"
    }
   },
   "outputs": [
    {
     "name": "stderr",
     "output_type": "stream",
     "text": [
      "C:\\Users\\User\\Anaconda3\\lib\\site-packages\\ipykernel_launcher.py:8: DeprecationWarning: use options instead of chrome_options\n",
      "  \n"
     ]
    }
   ],
   "source": [
    "#건축물대장 열람신청 입구\n",
    "url = 'https://www.gov.kr/main?a=AA020InfoCappViewApp&CappBizCD=15000000098'\n",
    "\n",
    "headers = {'user-agent': 'Mozilla/5.0 (Windows NT 10.0; Win64; x64) AppleWebKit/537.36 (KHTML, like Gecko) Chrome/79.0.3945.130 Safari/537.36'}\n",
    "options = Options()\n",
    "options.add_argument('--start-maximized') #big size\n",
    "options.add_argument(f'user-agent={headers}')\n",
    "driver = webdriver.Chrome(executable_path='./chromedriver', chrome_options=options)"
   ]
  },
  {
   "cell_type": "markdown",
   "metadata": {},
   "source": [
    "### 반자동화"
   ]
  },
  {
   "cell_type": "code",
   "execution_count": 205,
   "metadata": {
    "ExecuteTime": {
     "end_time": "2021-03-25T06:11:16.425128Z",
     "start_time": "2021-03-25T06:11:15.218864Z"
    }
   },
   "outputs": [],
   "source": [
    "#로그인 \n",
    "driver.get(url)\n",
    "time.sleep(0.5)\n",
    "#신청하기버튼\n",
    "ele = driver.find_element_by_css_selector('#applyBtn > a')\n",
    "ele.click()"
   ]
  },
  {
   "cell_type": "markdown",
   "metadata": {},
   "source": [
    "### 함수화"
   ]
  },
  {
   "cell_type": "code",
   "execution_count": 223,
   "metadata": {
    "ExecuteTime": {
     "end_time": "2021-03-25T06:55:29.392508Z",
     "start_time": "2021-03-25T06:55:29.375505Z"
    }
   },
   "outputs": [],
   "source": [
    "def find_owner_crawling(address, dong_length = False, ho_length = False, dong = 1, ho = 1):\n",
    "    '''\n",
    "    아파트 주소를 제공받아 소유주를 확인하는 코드\n",
    "    총 3단계로 이뤄져야함\n",
    "    1단계 해당 주소의 동개수 파악\n",
    "    2단계 해당 주소의 동의 호수 파악\n",
    "    3단계 각 동-호수별로 소유주 파악 \n",
    "    '''\n",
    "    sleep_time = 0.5\n",
    "    #로그인 \n",
    "    driver.get(url)\n",
    "    time.sleep(sleep_time)\n",
    "    #신청하기버튼\n",
    "    ele = driver.find_element_by_css_selector('#applyBtn > a')\n",
    "    ele.click()\n",
    "    wait = WebDriverWait(driver, 360).until(EC.element_to_be_clickable((By.CLASS_NAME, 'data-row-span-2')), 'Timed out waiting for loading')\n",
    "    \n",
    "    #열람버튼클릭\n",
    "    ele = driver.find_element_by_css_selector('body > div.contentsWrap > div > div.form-inner > div.element-tab > a:nth-child(2)')\n",
    "    ele.click()\n",
    "    wait = WebDriverWait(driver, 360).until(EC.element_to_be_clickable((By.CLASS_NAME, 'data-row-span-2')), 'Timed out waiting for loading')\n",
    "\n",
    "    #아파트 연립주택선택\n",
    "    ele = driver.find_element_by_css_selector('#건축물관리대장발급신청서_IN-건축물관리대장발급신청서_입력항목_공통항목_대장구분_\\.라디오코드2')\n",
    "    ele.click()\n",
    "    #전유부 선택\n",
    "    ele = driver.find_element_by_css_selector('#건축물관리대장발급신청서_IN-건축물관리대장발급신청서_입력항목_공통항목_대장종류_\\.라디오코드13')\n",
    "    ele.click()\n",
    "\n",
    "    #검색클릭\n",
    "    ele = driver.find_element_by_css_selector('#주소검색')\n",
    "    ele.click()\n",
    "    time.sleep(sleep_time)\n",
    "\n",
    "    #팝업창이동\n",
    "    all_windows = driver.window_handles \n",
    "    parent_window = all_windows[0] \n",
    "    child_window = all_windows[1] \n",
    "    driver.switch_to.window(child_window) \n",
    "    time.sleep(sleep_time)\n",
    "\n",
    "    #검색입력\n",
    "    ele = driver.find_element_by_css_selector('#txtRoad')\n",
    "    ele.send_keys(address)\n",
    "    time.sleep(sleep_time)\n",
    "\n",
    "    #검색클릭\n",
    "    ele =driver.find_element_by_css_selector('#frm_popup > fieldset > div > div > span > button')\n",
    "    ele.click()\n",
    "    time.sleep(sleep_time)\n",
    "\n",
    "    #도로명주소클릭\n",
    "    ele = driver.find_element_by_css_selector('#pop-wrap > div > div.cont-box.addr-search-new > div > div.address-result-list > a > dl > dd > div:nth-child(1)')\n",
    "    ele.click()\n",
    "\n",
    "    #행정처리기관클릭\n",
    "    ele = driver.find_element_by_css_selector('#frm_popup > fieldset > div.search-btm-area > div.address-result-list.land > a:nth-child(2) > dl > dd > div')\n",
    "    ele.click()\n",
    "\n",
    "    #복귀\n",
    "    driver.switch_to.window(parent_window) \n",
    "    \n",
    "    #민원신청하기 클릭 - 동선택까지 기다리기\n",
    "    ele = driver.find_element_by_css_selector('#btn_end')\n",
    "    ele.click()\n",
    "    time.sleep(sleep_time)\n",
    "    wait = WebDriverWait(driver, 360).until(EC.element_to_be_clickable((By.CLASS_NAME, 'data-row-span-2')), 'Timed out waiting for loading')\n",
    "    time.sleep(sleep_time)\n",
    "\n",
    "    #팝업창이동(동선택)\n",
    "    all_windows = driver.window_handles \n",
    "    parent_window = all_windows[0] \n",
    "    child_window = all_windows[1] \n",
    "    driver.switch_to.window(child_window) \n",
    "    time.sleep(sleep_time)\n",
    "\n",
    "    if dong_length == True:\n",
    "        #전체 동수파악\n",
    "        ele = driver.find_element_by_css_selector('body > div > div > div > table > tbody')\n",
    "        dong_pattern = re.compile('[0-9]+동')\n",
    "        dong_length = len([item.split(' ')[1] for item in ele.text.split('\\n')])\n",
    "        #복귀\n",
    "        driver.close()\n",
    "        driver.switch_to.window(parent_window) \n",
    "        return dong_length\n",
    "\n",
    "    #동 선택(지정안해주면 1)\n",
    "    ele = driver.find_element_by_css_selector(f'body > div > div > div > table > tbody > tr:nth-child({dong+1}) > td:nth-child(3) > span > button')\n",
    "    ele.click()\n",
    "\n",
    "    #복귀\n",
    "    driver.switch_to.window(parent_window) \n",
    "\n",
    "    #민원신청하기 클릭 - 호선택까지 기다리기\n",
    "    ele = driver.find_element_by_css_selector('#btn_end')\n",
    "    ele.click()\n",
    "    time.sleep(sleep_time)\n",
    "    wait = WebDriverWait(driver, 360).until(EC.element_to_be_clickable((By.CLASS_NAME, 'data-row-span-2')), 'Timed out waiting for loading')\n",
    "    time.sleep(sleep_time)\n",
    "\n",
    "    #팝업창이동(호선택)\n",
    "    all_windows = driver.window_handles \n",
    "    parent_window = all_windows[0] \n",
    "    child_window = all_windows[1] \n",
    "    driver.switch_to.window(child_window) \n",
    "    time.sleep(sleep_time)\n",
    "\n",
    "    if ho_length == True:\n",
    "        #전체 호수파악\n",
    "        ele = driver.find_element_by_css_selector('body > div > div > div > table > tbody')\n",
    "        ho_length = len([item.split(' ')[1] for item in ele.text.split('\\n')])\n",
    "        \n",
    "\n",
    "    #호 클릭(지정안해주면 1)\n",
    "    ele = driver.find_element_by_css_selector(f'body > div > div > div > table > tbody > tr:nth-child({ho+1}) > td:nth-child(3) > span > button')\n",
    "    ele.click()\n",
    "\n",
    "    #복귀\n",
    "    driver.switch_to.window(parent_window) \n",
    "\n",
    "    #민원신청하기\n",
    "    ele = driver.find_element_by_css_selector('#btn_end')\n",
    "    ele.click()\n",
    "    time.sleep(1)\n",
    "    wait = WebDriverWait(driver, 180).until(EC.element_to_be_clickable((By.ID, 'srch')), 'Timed out waiting for loading')\n",
    "    time.sleep(1)\n",
    "    \n",
    "    if ho_length == True:\n",
    "        return ho_length\n",
    "       "
   ]
  },
  {
   "cell_type": "code",
   "execution_count": 207,
   "metadata": {
    "ExecuteTime": {
     "end_time": "2021-03-25T06:12:01.228529Z",
     "start_time": "2021-03-25T06:11:21.651537Z"
    }
   },
   "outputs": [],
   "source": [
    "address = address_list[0]\n",
    "#아파트내 동개수 파악\n",
    "dong_length = find_owner_crawling(address, dong_length = True, dong = 1, ho = 1)\n",
    "#동별 호개수 파악후 서류신청\n",
    "for dong in tqdm(range(dong_length)):\n",
    "    ho_length = find_owner_crawling(address, ho_length = True, dong = dong, ho = 1) #각 동의 첫번째는 진행함\n",
    "    for ho in tqdm(range(1,ho_length)):\n",
    "        find_owner_crawling(address, dong = dong, ho = ho)"
   ]
  },
  {
   "cell_type": "markdown",
   "metadata": {},
   "source": [
    "### 저장코드"
   ]
  },
  {
   "cell_type": "code",
   "execution_count": 238,
   "metadata": {
    "ExecuteTime": {
     "end_time": "2021-03-25T07:00:22.882813Z",
     "start_time": "2021-03-25T07:00:22.880813Z"
    }
   },
   "outputs": [],
   "source": [
    "#표제부일때 \n",
    "#저장위치\n",
    "items = dict()\n",
    "items['명칭'] = []\n",
    "items['호명칭'] = []\n",
    "items['면적'] = []\n",
    "items['소유자'] = []\n",
    "items['소유자_주소'] = []\n",
    "items['소유자_주민번호'] = []\n",
    "items['소유자2'] = [] \n",
    "items['소유자2_주소'] = []\n",
    "items['소유자2_주민번호'] = []\n",
    "\n",
    "#다음페이지\n",
    "pages = [2,4,5,6,7,8,9]\n",
    "for page in pages:\n",
    "    ele = driver.find_element_by_css_selector(f\"#EncryptionAreaID_0 > div.pagination > ul > li:nth-child({page}) > a\")\n",
    "    ele.click()\n",
    "    time.sleep(0.5)\n",
    "    wait = WebDriverWait(driver, 360).until(EC.element_to_be_clickable((By.CLASS_NAME, 'ttl')), 'Timed out waiting for loading')\n",
    "    #엑셀화 작업본\n",
    "    #첫번째창\n",
    "    for item_num in range(1,11):\n",
    "        ele = driver.find_element_by_css_selector(f'#EncryptionAreaID_0 > div.tbl-list.border > table > tbody > tr:nth-child({item_num}) > td.cs-state > p:nth-child(2) > span > a')\n",
    "        ele.click()\n",
    "        time.sleep(1)\n",
    "\n",
    "        #팝업창이동\n",
    "        all_windows = driver.window_handles \n",
    "        parent_window = all_windows[0] \n",
    "        child_window = all_windows[1] \n",
    "        driver.switch_to.window(child_window) \n",
    "        time.sleep(1)\n",
    "\n",
    "        #데이터가져오기\n",
    "        ele = driver.find_element_by_css_selector('#EncryptionAreaID_0 > table:nth-child(6) > tbody > tr:nth-child(3) > td.L_R1B1.P_R1')\n",
    "        명칭 = ele.text\n",
    "        ele = driver.find_element_by_css_selector('#EncryptionAreaID_0 > table:nth-child(6) > tbody > tr:nth-child(3) > td.L_B1.P_R1')\n",
    "        호명칭 = ele.text\n",
    "        ele = driver.find_element_by_css_selector('#main > tbody > tr:nth-child(5) > td.L_R1B1.P_RM')\n",
    "        면적 = ele.text\n",
    "\n",
    "        ele = driver.find_element_by_css_selector('#main > tbody > tr:nth-child(5) > td:nth-child(6)')\n",
    "        소유자 = ele.text\n",
    "        ele = driver.find_element_by_css_selector('#main > tbody > tr:nth-child(5) > td:nth-child(7)')\n",
    "        소유자_주소 = ele.text\n",
    "        ele = driver.find_element_by_css_selector('#main > tbody > tr:nth-child(6) > td:nth-child(6)')\n",
    "        소유자_주민번호 = ele.text\n",
    "\n",
    "        items['명칭'].append(명칭) \n",
    "        items['호명칭'].append(호명칭) \n",
    "        items['면적'].append(면적) \n",
    "        items['소유자'].append(소유자) \n",
    "        items['소유자_주소'].append(소유자_주소) \n",
    "        items['소유자_주민번호'].append(소유자_주민번호)\n",
    "\n",
    "        try:\n",
    "            ele = driver.find_element_by_css_selector('#main > tbody > tr:nth-child(7) > td:nth-child(2)')\n",
    "            소유자2 = ele.text\n",
    "            ele = driver.find_element_by_css_selector('#main > tbody > tr:nth-child(7) > td.L_R1B1.P_LM.T_WRAP')\n",
    "            소유자2_주소 = ele.text\n",
    "            ele = driver.find_element_by_css_selector('#main > tbody > tr:nth-child(8) > td:nth-child(6)')\n",
    "            소유자2_주민번호 = ele.text\n",
    "\n",
    "            items['소유자2'].append(소유자2) \n",
    "            items['소유자2_주소'].append(소유자2_주소) \n",
    "            items['소유자2_주민번호'].append(소유자2_주민번호)\n",
    "        except :\n",
    "            items['소유자2'].append(np.nan) \n",
    "            items['소유자2_주소'].append(np.nan) \n",
    "            items['소유자2_주민번호'].append(np.nan)\n",
    "\n",
    "        #복귀\n",
    "        driver.close()\n",
    "        driver.switch_to.window(parent_window)\n",
    "#저장\n",
    "items_df = pd.DataFrame(items)\n",
    "items_df.to_excel('test.xlsx')"
   ]
  },
  {
   "cell_type": "markdown",
   "metadata": {},
   "source": [
    "### 작업본"
   ]
  },
  {
   "cell_type": "code",
   "execution_count": 98,
   "metadata": {
    "ExecuteTime": {
     "end_time": "2021-03-25T05:25:37.170035Z",
     "start_time": "2021-03-25T05:25:37.160043Z"
    }
   },
   "outputs": [],
   "source": [
    "address = address_list[0]"
   ]
  },
  {
   "cell_type": "code",
   "execution_count": 100,
   "metadata": {
    "ExecuteTime": {
     "end_time": "2021-03-25T05:25:57.401819Z",
     "start_time": "2021-03-25T05:25:48.564126Z"
    }
   },
   "outputs": [],
   "source": [
    "#로그인 \n",
    "driver.get(url)\n",
    "time.sleep(0.5)\n",
    "#신청하기버튼\n",
    "ele = driver.find_element_by_css_selector('#applyBtn > a')\n",
    "ele.click()\n",
    "wait = WebDriverWait(driver, 360).until(EC.element_to_be_clickable((By.CLASS_NAME, 'data-row-span-2')), 'Timed out waiting for loading')\n",
    "\n",
    "#열람버튼클릭\n",
    "ele = driver.find_element_by_css_selector('body > div.contentsWrap > div > div.form-inner > div.element-tab > a:nth-child(2)')\n",
    "ele.click()\n",
    "wait = WebDriverWait(driver, 360).until(EC.element_to_be_clickable((By.CLASS_NAME, 'data-row-span-2')), 'Timed out waiting for loading')\n",
    "\n",
    "#아파트 연립주택선택\n",
    "ele = driver.find_element_by_css_selector('#건축물관리대장발급신청서_IN-건축물관리대장발급신청서_입력항목_공통항목_대장구분_\\.라디오코드2')\n",
    "ele.click()\n",
    "#전유부 선택\n",
    "ele = driver.find_element_by_css_selector('#건축물관리대장발급신청서_IN-건축물관리대장발급신청서_입력항목_공통항목_대장종류_\\.라디오코드13')\n",
    "ele.click()\n",
    "\n",
    "#검색클릭\n",
    "ele = driver.find_element_by_css_selector('#주소검색')\n",
    "ele.click()\n",
    "time.sleep(1)\n",
    "\n",
    "#팝업창이동\n",
    "all_windows = driver.window_handles \n",
    "parent_window = all_windows[0] \n",
    "child_window = all_windows[1] \n",
    "driver.switch_to.window(child_window) \n",
    "time.sleep(1)\n",
    "\n",
    "#검색입력\n",
    "ele = driver.find_element_by_css_selector('#txtRoad')\n",
    "ele.send_keys(address)\n",
    "time.sleep(1)\n",
    "\n",
    "#검색클릭\n",
    "ele =driver.find_element_by_css_selector('#frm_popup > fieldset > div > div > span > button')\n",
    "ele.click()\n",
    "time.sleep(2)\n",
    "\n",
    "#도로명주소클릭\n",
    "ele = driver.find_element_by_css_selector('#pop-wrap > div > div.cont-box.addr-search-new > div > div.address-result-list > a > dl > dd > div:nth-child(1)')\n",
    "ele.click()\n",
    "\n",
    "#행정처리기관클릭\n",
    "ele = driver.find_element_by_css_selector('#frm_popup > fieldset > div.search-btm-area > div.address-result-list.land > a:nth-child(2) > dl > dd > div')\n",
    "ele.click()\n",
    "\n",
    "#복귀\n",
    "driver.switch_to.window(parent_window) "
   ]
  },
  {
   "cell_type": "code",
   "execution_count": 101,
   "metadata": {
    "ExecuteTime": {
     "end_time": "2021-03-25T05:26:05.882561Z",
     "start_time": "2021-03-25T05:26:05.875560Z"
    }
   },
   "outputs": [],
   "source": [
    "first = True"
   ]
  },
  {
   "cell_type": "code",
   "execution_count": 102,
   "metadata": {
    "ExecuteTime": {
     "end_time": "2021-03-25T05:26:23.242045Z",
     "start_time": "2021-03-25T05:26:13.747745Z"
    }
   },
   "outputs": [],
   "source": [
    "#민원신청하기 클릭 - 동선택까지 기다리기\n",
    "ele = driver.find_element_by_css_selector('#btn_end')\n",
    "ele.click()\n",
    "time.sleep(1)\n",
    "wait = WebDriverWait(driver, 360).until(EC.element_to_be_clickable((By.CLASS_NAME, 'data-row-span-2')), 'Timed out waiting for loading')\n",
    "time.sleep(1)\n",
    "\n",
    "#팝업창이동(동선택)\n",
    "all_windows = driver.window_handles \n",
    "parent_window = all_windows[0] \n",
    "child_window = all_windows[1] \n",
    "driver.switch_to.window(child_window) \n",
    "time.sleep(1)\n",
    "\n",
    "if first == True:\n",
    "    #전체 동수파악\n",
    "    ele = driver.find_element_by_css_selector('body > div > div > div > table > tbody')\n",
    "    dong_pattern = re.compile('[0-9]+동')\n",
    "    dong_length = len([item.split(' ')[1] for item in ele.text.split('\\n')])\n",
    "\n",
    "#동 선택(지정안해주면 1)\n",
    "ele = driver.find_element_by_css_selector(f'body > div > div > div > table > tbody > tr:nth-child({dong}) > td:nth-child(3) > span > button')\n",
    "ele.click()\n",
    "\n",
    "#복귀\n",
    "driver.switch_to.window(parent_window) \n"
   ]
  },
  {
   "cell_type": "code",
   "execution_count": 58,
   "metadata": {
    "ExecuteTime": {
     "end_time": "2021-03-25T05:02:02.882638Z",
     "start_time": "2021-03-25T05:02:01.855618Z"
    }
   },
   "outputs": [],
   "source": [
    "#민원신청하기 클릭 - 호선택까지 기다리기\n",
    "ele = driver.find_element_by_css_selector('#btn_end')\n",
    "ele.click()\n",
    "time.sleep(1)\n",
    "wait = WebDriverWait(driver, 360).until(EC.element_to_be_clickable((By.CLASS_NAME, 'data-row-span-2')), 'Timed out waiting for loading')\n",
    "time.sleep(1)\n",
    "\n",
    "#팝업창이동(호선택)\n",
    "all_windows = driver.window_handles \n",
    "parent_window = all_windows[0] \n",
    "child_window = all_windows[1] \n",
    "driver.switch_to.window(child_window) \n",
    "time.sleep(1)\n",
    "\n",
    "if first == True:\n",
    "    #전체 호수파악\n",
    "    ele = driver.find_element_by_css_selector('body > div > div > div > table > tbody')\n",
    "    ho_length = [item.split(' ')[1] for item in ele.text.split('\\n')]\n",
    "\n",
    "#호 클릭(지정안해주면 1)\n",
    "ele = driver.find_element_by_css_selector(f'body > div > div > div > table > tbody > tr:nth-child({ho}) > td:nth-child(3) > span > button')\n",
    "ele.click()\n",
    "\n",
    "#복귀\n",
    "driver.switch_to.window(parent_window) \n",
    "\n",
    "#민원신청하기\n",
    "ele = driver.find_element_by_css_selector('#btn_end')\n",
    "ele.click()\n",
    "time.sleep(1)\n",
    "wait = WebDriverWait(driver, 180).until(EC.element_to_be_clickable((By.ID, 'srch')), 'Timed out waiting for loading')\n",
    "time.sleep(1)"
   ]
  },
  {
   "cell_type": "code",
   "execution_count": null,
   "metadata": {},
   "outputs": [],
   "source": []
  },
  {
   "cell_type": "code",
   "execution_count": null,
   "metadata": {},
   "outputs": [],
   "source": []
  },
  {
   "cell_type": "code",
   "execution_count": null,
   "metadata": {},
   "outputs": [],
   "source": []
  },
  {
   "cell_type": "code",
   "execution_count": 357,
   "metadata": {
    "ExecuteTime": {
     "end_time": "2021-01-26T09:39:45.851657Z",
     "start_time": "2021-01-26T09:37:16.991903Z"
    },
    "code_folding": []
   },
   "outputs": [
    {
     "data": {
      "application/vnd.jupyter.widget-view+json": {
       "model_id": "c4185c1232a74c1d93a9278b04ac89d2",
       "version_major": 2,
       "version_minor": 0
      },
      "text/plain": [
       "HBox(children=(FloatProgress(value=0.0, max=4.0), HTML(value='')))"
      ]
     },
     "metadata": {},
     "output_type": "display_data"
    },
    {
     "name": "stdout",
     "output_type": "stream",
     "text": [
      "\n"
     ]
    },
    {
     "ename": "KeyboardInterrupt",
     "evalue": "",
     "output_type": "error",
     "traceback": [
      "\u001b[1;31m---------------------------------------------------------------------------\u001b[0m",
      "\u001b[1;31mKeyboardInterrupt\u001b[0m                         Traceback (most recent call last)",
      "\u001b[1;32m<ipython-input-357-a29ed99d8706>\u001b[0m in \u001b[0;36m<module>\u001b[1;34m()\u001b[0m\n\u001b[0;32m     51\u001b[0m         \u001b[0mtime\u001b[0m\u001b[1;33m.\u001b[0m\u001b[0msleep\u001b[0m\u001b[1;33m(\u001b[0m\u001b[1;36m1\u001b[0m\u001b[1;33m)\u001b[0m\u001b[1;33m\u001b[0m\u001b[0m\n\u001b[1;32m---> 52\u001b[1;33m         \u001b[0mwait\u001b[0m \u001b[1;33m=\u001b[0m \u001b[0mWebDriverWait\u001b[0m\u001b[1;33m(\u001b[0m\u001b[0mdriver\u001b[0m\u001b[1;33m,\u001b[0m \u001b[1;36m180\u001b[0m\u001b[1;33m)\u001b[0m\u001b[1;33m.\u001b[0m\u001b[0muntil\u001b[0m\u001b[1;33m(\u001b[0m\u001b[0mEC\u001b[0m\u001b[1;33m.\u001b[0m\u001b[0melement_to_be_clickable\u001b[0m\u001b[1;33m(\u001b[0m\u001b[1;33m(\u001b[0m\u001b[0mBy\u001b[0m\u001b[1;33m.\u001b[0m\u001b[0mID\u001b[0m\u001b[1;33m,\u001b[0m \u001b[1;34m'srch'\u001b[0m\u001b[1;33m)\u001b[0m\u001b[1;33m)\u001b[0m\u001b[1;33m,\u001b[0m \u001b[1;34m'Timed out waiting for loading'\u001b[0m\u001b[1;33m)\u001b[0m\u001b[1;33m\u001b[0m\u001b[0m\n\u001b[0m\u001b[0;32m     53\u001b[0m         \u001b[0mtime\u001b[0m\u001b[1;33m.\u001b[0m\u001b[0msleep\u001b[0m\u001b[1;33m(\u001b[0m\u001b[1;36m1\u001b[0m\u001b[1;33m)\u001b[0m\u001b[1;33m\u001b[0m\u001b[0m\n",
      "\u001b[1;32m~\\Anaconda3\\lib\\site-packages\\selenium\\webdriver\\support\\wait.py\u001b[0m in \u001b[0;36muntil\u001b[1;34m(self, method, message)\u001b[0m\n\u001b[0;32m     76\u001b[0m                 \u001b[0mstacktrace\u001b[0m \u001b[1;33m=\u001b[0m \u001b[0mgetattr\u001b[0m\u001b[1;33m(\u001b[0m\u001b[0mexc\u001b[0m\u001b[1;33m,\u001b[0m \u001b[1;34m'stacktrace'\u001b[0m\u001b[1;33m,\u001b[0m \u001b[1;32mNone\u001b[0m\u001b[1;33m)\u001b[0m\u001b[1;33m\u001b[0m\u001b[0m\n\u001b[1;32m---> 77\u001b[1;33m             \u001b[0mtime\u001b[0m\u001b[1;33m.\u001b[0m\u001b[0msleep\u001b[0m\u001b[1;33m(\u001b[0m\u001b[0mself\u001b[0m\u001b[1;33m.\u001b[0m\u001b[0m_poll\u001b[0m\u001b[1;33m)\u001b[0m\u001b[1;33m\u001b[0m\u001b[0m\n\u001b[0m\u001b[0;32m     78\u001b[0m             \u001b[1;32mif\u001b[0m \u001b[0mtime\u001b[0m\u001b[1;33m.\u001b[0m\u001b[0mtime\u001b[0m\u001b[1;33m(\u001b[0m\u001b[1;33m)\u001b[0m \u001b[1;33m>\u001b[0m \u001b[0mend_time\u001b[0m\u001b[1;33m:\u001b[0m\u001b[1;33m\u001b[0m\u001b[0m\n",
      "\u001b[1;31mKeyboardInterrupt\u001b[0m: ",
      "\nDuring handling of the above exception, another exception occurred:\n",
      "\u001b[1;31mKeyboardInterrupt\u001b[0m                         Traceback (most recent call last)",
      "\u001b[1;32m<ipython-input-357-a29ed99d8706>\u001b[0m in \u001b[0;36m<module>\u001b[1;34m()\u001b[0m\n\u001b[0;32m     65\u001b[0m         \u001b[0mele\u001b[0m\u001b[1;33m.\u001b[0m\u001b[0mclick\u001b[0m\u001b[1;33m(\u001b[0m\u001b[1;33m)\u001b[0m\u001b[1;33m\u001b[0m\u001b[0m\n\u001b[0;32m     66\u001b[0m         \u001b[0mtime\u001b[0m\u001b[1;33m.\u001b[0m\u001b[0msleep\u001b[0m\u001b[1;33m(\u001b[0m\u001b[1;36m1\u001b[0m\u001b[1;33m)\u001b[0m\u001b[1;33m\u001b[0m\u001b[0m\n\u001b[1;32m---> 67\u001b[1;33m         \u001b[0mwait\u001b[0m \u001b[1;33m=\u001b[0m \u001b[0mWebDriverWait\u001b[0m\u001b[1;33m(\u001b[0m\u001b[0mdriver\u001b[0m\u001b[1;33m,\u001b[0m \u001b[1;36m360\u001b[0m\u001b[1;33m)\u001b[0m\u001b[1;33m.\u001b[0m\u001b[0muntil\u001b[0m\u001b[1;33m(\u001b[0m\u001b[0mEC\u001b[0m\u001b[1;33m.\u001b[0m\u001b[0melement_to_be_clickable\u001b[0m\u001b[1;33m(\u001b[0m\u001b[1;33m(\u001b[0m\u001b[0mBy\u001b[0m\u001b[1;33m.\u001b[0m\u001b[0mCLASS_NAME\u001b[0m\u001b[1;33m,\u001b[0m \u001b[1;34m'EncryptionAreaID_0'\u001b[0m\u001b[1;33m)\u001b[0m\u001b[1;33m)\u001b[0m\u001b[1;33m,\u001b[0m \u001b[1;34m'Timed out waiting for loading'\u001b[0m\u001b[1;33m)\u001b[0m\u001b[1;33m\u001b[0m\u001b[0m\n\u001b[0m\u001b[0;32m     68\u001b[0m \u001b[1;33m\u001b[0m\u001b[0m\n\u001b[0;32m     69\u001b[0m         \u001b[1;31m#팝업창이동\u001b[0m\u001b[1;33m\u001b[0m\u001b[1;33m\u001b[0m\u001b[0m\n",
      "\u001b[1;32m~\\Anaconda3\\lib\\site-packages\\selenium\\webdriver\\support\\wait.py\u001b[0m in \u001b[0;36muntil\u001b[1;34m(self, method, message)\u001b[0m\n\u001b[0;32m     75\u001b[0m                 \u001b[0mscreen\u001b[0m \u001b[1;33m=\u001b[0m \u001b[0mgetattr\u001b[0m\u001b[1;33m(\u001b[0m\u001b[0mexc\u001b[0m\u001b[1;33m,\u001b[0m \u001b[1;34m'screen'\u001b[0m\u001b[1;33m,\u001b[0m \u001b[1;32mNone\u001b[0m\u001b[1;33m)\u001b[0m\u001b[1;33m\u001b[0m\u001b[0m\n\u001b[0;32m     76\u001b[0m                 \u001b[0mstacktrace\u001b[0m \u001b[1;33m=\u001b[0m \u001b[0mgetattr\u001b[0m\u001b[1;33m(\u001b[0m\u001b[0mexc\u001b[0m\u001b[1;33m,\u001b[0m \u001b[1;34m'stacktrace'\u001b[0m\u001b[1;33m,\u001b[0m \u001b[1;32mNone\u001b[0m\u001b[1;33m)\u001b[0m\u001b[1;33m\u001b[0m\u001b[0m\n\u001b[1;32m---> 77\u001b[1;33m             \u001b[0mtime\u001b[0m\u001b[1;33m.\u001b[0m\u001b[0msleep\u001b[0m\u001b[1;33m(\u001b[0m\u001b[0mself\u001b[0m\u001b[1;33m.\u001b[0m\u001b[0m_poll\u001b[0m\u001b[1;33m)\u001b[0m\u001b[1;33m\u001b[0m\u001b[0m\n\u001b[0m\u001b[0;32m     78\u001b[0m             \u001b[1;32mif\u001b[0m \u001b[0mtime\u001b[0m\u001b[1;33m.\u001b[0m\u001b[0mtime\u001b[0m\u001b[1;33m(\u001b[0m\u001b[1;33m)\u001b[0m \u001b[1;33m>\u001b[0m \u001b[0mend_time\u001b[0m\u001b[1;33m:\u001b[0m\u001b[1;33m\u001b[0m\u001b[0m\n\u001b[0;32m     79\u001b[0m                 \u001b[1;32mbreak\u001b[0m\u001b[1;33m\u001b[0m\u001b[0m\n",
      "\u001b[1;31mKeyboardInterrupt\u001b[0m: "
     ]
    }
   ],
   "source": [
    "for address in tqdm(address_list):\n",
    "    try:\n",
    "        #로그인 이후 돌아가기\n",
    "        driver.get(url)\n",
    "        time.sleep(0.5)\n",
    "        #신청하기버튼\n",
    "        ele = driver.find_element_by_css_selector('#applyBtn > a')\n",
    "        ele.click()\n",
    "        wait = WebDriverWait(driver, 360).until(EC.element_to_be_clickable((By.CLASS_NAME, 'data-row-span-2')), 'Timed out waiting for loading')\n",
    "\n",
    "        #총괄버튼\n",
    "        ele = driver.find_element_by_css_selector('#dis_1 > label:nth-child(2) > span.kor')\n",
    "        ele.click()\n",
    "\n",
    "        #검색클릭\n",
    "        ele = driver.find_element_by_css_selector('#주소검색')\n",
    "        ele.click()\n",
    "        time.sleep(1)\n",
    "\n",
    "        #팝업창이동\n",
    "        all_windows = driver.window_handles \n",
    "        parent_window = all_windows[0] \n",
    "        child_window = all_windows[1] \n",
    "        driver.switch_to.window(child_window) \n",
    "        time.sleep(1)\n",
    "\n",
    "        #검색입력\n",
    "        ele = driver.find_element_by_css_selector('#txtRoad')\n",
    "        ele.send_keys(address)\n",
    "        time.sleep(1)\n",
    "\n",
    "        #검색클릭\n",
    "        ele =driver.find_element_by_css_selector('#frm_popup > fieldset > div > div > span > button')\n",
    "        ele.click()\n",
    "        time.sleep(2)\n",
    "\n",
    "        #도로명주소클릭\n",
    "        ele = driver.find_element_by_css_selector('#pop-wrap > div > div.cont-box.addr-search-new > div > div.address-result-list > a > dl > dd > div:nth-child(1)')\n",
    "        ele.click()\n",
    "\n",
    "        #행정처리기관클릭\n",
    "        ele = driver.find_element_by_css_selector('#frm_popup > fieldset > div.search-btm-area > div.address-result-list.land > a:nth-child(2) > dl > dd > div')\n",
    "        ele.click()\n",
    "\n",
    "        #복귀\n",
    "        driver.switch_to.window(parent_window) \n",
    "\n",
    "        #민원신청하기\n",
    "        ele = driver.find_element_by_css_selector('#btn_end')\n",
    "        ele.click()\n",
    "        time.sleep(1)\n",
    "        wait = WebDriverWait(driver, 180).until(EC.element_to_be_clickable((By.ID, 'srch')), 'Timed out waiting for loading')\n",
    "        time.sleep(1)\n",
    "    except:\n",
    "        #출력 못하는 경우(총괄이 없고 일반만 있음)\n",
    "        ele = driver.find_element_by_css_selector('#frm_main > div.form-write-wrap.mt40 > div > div > div > div')\n",
    "        ele.text == '해당주소에 대한 정보가 없습니다.\\n건축물주소 또는 대장구분(종류) 수정 후 [민원신청하기]버튼을 선택하시기 바랍니다.'\n",
    "\n",
    "        #일반클릭\n",
    "        ele = driver.find_element_by_css_selector('#dis_1 > label:nth-child(4) > span.kor')\n",
    "        ele.click()\n",
    "\n",
    "        #동명검색 \n",
    "        ele = driver.find_element_by_css_selector('#동명검색')\n",
    "        ele.click()\n",
    "        time.sleep(1)\n",
    "        wait = WebDriverWait(driver, 360).until(EC.element_to_be_clickable((By.CLASS_NAME, 'EncryptionAreaID_0')), 'Timed out waiting for loading')\n",
    "\n",
    "        #팝업창이동\n",
    "        all_windows = driver.window_handles \n",
    "        parent_window = all_windows[0] \n",
    "        child_window = all_windows[1] \n",
    "        driver.switch_to.window(child_window) \n",
    "        time.sleep(1)\n",
    "        #선택버튼\n",
    "        ele = driver.find_element_by_css_selector('body > div > div > div > table > tbody > tr > td:nth-child(4) > span > button')\n",
    "        ele.click()\n",
    "        time.sleep(1)\n",
    "        #복귀\n",
    "        driver.switch_to.window(parent_window)\n",
    "        time.sleep(1)\n",
    "\n",
    "        #민원신청\n",
    "        ele = driver.find_element_by_css_selector('#btn_end')\n",
    "        ele.click()\n",
    "        time.sleep(2)"
   ]
  },
  {
   "cell_type": "code",
   "execution_count": null,
   "metadata": {},
   "outputs": [],
   "source": []
  },
  {
   "cell_type": "code",
   "execution_count": 364,
   "metadata": {
    "ExecuteTime": {
     "end_time": "2021-01-26T09:42:08.377258Z",
     "start_time": "2021-01-26T09:42:04.790785Z"
    }
   },
   "outputs": [],
   "source": [
    "address = address_list[2]\n",
    "#로그인 이후 돌아가기\n",
    "driver.get(url)\n",
    "time.sleep(0.5)\n",
    "#신청하기버튼\n",
    "ele = driver.find_element_by_css_selector('#applyBtn > a')\n",
    "ele.click()\n",
    "wait = WebDriverWait(driver, 360).until(EC.element_to_be_clickable((By.CLASS_NAME, 'data-row-span-2')), 'Timed out waiting for loading')"
   ]
  },
  {
   "cell_type": "code",
   "execution_count": 372,
   "metadata": {
    "ExecuteTime": {
     "end_time": "2021-01-26T09:44:37.143438Z",
     "start_time": "2021-01-26T09:44:19.458036Z"
    }
   },
   "outputs": [],
   "source": [
    "address = address_list[2]\n",
    "#로그인 이후 돌아가기\n",
    "driver.get(url)\n",
    "time.sleep(0.5)\n",
    "#신청하기버튼\n",
    "ele = driver.find_element_by_css_selector('#applyBtn > a')\n",
    "ele.click()\n",
    "wait = WebDriverWait(driver, 360).until(EC.element_to_be_clickable((By.CLASS_NAME, 'data-row-span-2')), 'Timed out waiting for loading')\n",
    "\n",
    "#총괄버튼\n",
    "ele = driver.find_element_by_css_selector('#dis_1 > label:nth-child(2) > span.kor')\n",
    "ele.click()\n",
    "\n",
    "#검색클릭\n",
    "ele = driver.find_element_by_css_selector('#주소검색')\n",
    "ele.click()\n",
    "time.sleep(1)\n",
    "\n",
    "#팝업창이동\n",
    "all_windows = driver.window_handles \n",
    "parent_window = all_windows[0] \n",
    "child_window = all_windows[1] \n",
    "driver.switch_to.window(child_window) \n",
    "time.sleep(1)\n",
    "\n",
    "#검색입력\n",
    "ele = driver.find_element_by_css_selector('#txtRoad')\n",
    "ele.send_keys(address)\n",
    "time.sleep(1)\n",
    "\n",
    "#검색클릭\n",
    "ele =driver.find_element_by_css_selector('#frm_popup > fieldset > div > div > span > button')\n",
    "ele.click()\n",
    "time.sleep(2)\n",
    "\n",
    "#도로명주소클릭\n",
    "ele = driver.find_element_by_css_selector('#pop-wrap > div > div.cont-box.addr-search-new > div > div.address-result-list > a > dl > dd > div:nth-child(1)')\n",
    "ele.click()\n",
    "\n",
    "#행정처리기관클릭\n",
    "ele = driver.find_element_by_css_selector('#frm_popup > fieldset > div.search-btm-area > div.address-result-list.land > a:nth-child(2) > dl > dd > div')\n",
    "ele.click()\n",
    "\n",
    "#복귀\n",
    "driver.switch_to.window(parent_window) \n",
    "\n",
    "#민원신청하기\n",
    "ele = driver.find_element_by_css_selector('#btn_end')\n",
    "ele.click()\n",
    "time.sleep(1)\n",
    "# wait = WebDriverWait(driver, 180).until(EC.element_to_be_clickable((By.ID, 'srch')), 'Timed out waiting for loading')\n",
    "time.sleep(1)"
   ]
  },
  {
   "cell_type": "code",
   "execution_count": 373,
   "metadata": {
    "ExecuteTime": {
     "end_time": "2021-01-26T09:45:02.455227Z",
     "start_time": "2021-01-26T09:44:44.592968Z"
    }
   },
   "outputs": [
    {
     "ename": "KeyboardInterrupt",
     "evalue": "",
     "output_type": "error",
     "traceback": [
      "\u001b[1;31m---------------------------------------------------------------------------\u001b[0m",
      "\u001b[1;31mKeyboardInterrupt\u001b[0m                         Traceback (most recent call last)",
      "\u001b[1;32m<ipython-input-373-eac1ec02e42e>\u001b[0m in \u001b[0;36m<module>\u001b[1;34m()\u001b[0m\n\u001b[0;32m     11\u001b[0m \u001b[0mele\u001b[0m\u001b[1;33m.\u001b[0m\u001b[0mclick\u001b[0m\u001b[1;33m(\u001b[0m\u001b[1;33m)\u001b[0m\u001b[1;33m\u001b[0m\u001b[0m\n\u001b[0;32m     12\u001b[0m \u001b[0mtime\u001b[0m\u001b[1;33m.\u001b[0m\u001b[0msleep\u001b[0m\u001b[1;33m(\u001b[0m\u001b[1;36m1\u001b[0m\u001b[1;33m)\u001b[0m\u001b[1;33m\u001b[0m\u001b[0m\n\u001b[1;32m---> 13\u001b[1;33m \u001b[0mwait\u001b[0m \u001b[1;33m=\u001b[0m \u001b[0mWebDriverWait\u001b[0m\u001b[1;33m(\u001b[0m\u001b[0mdriver\u001b[0m\u001b[1;33m,\u001b[0m \u001b[1;36m360\u001b[0m\u001b[1;33m)\u001b[0m\u001b[1;33m.\u001b[0m\u001b[0muntil\u001b[0m\u001b[1;33m(\u001b[0m\u001b[0mEC\u001b[0m\u001b[1;33m.\u001b[0m\u001b[0melement_to_be_clickable\u001b[0m\u001b[1;33m(\u001b[0m\u001b[1;33m(\u001b[0m\u001b[0mBy\u001b[0m\u001b[1;33m.\u001b[0m\u001b[0mCLASS_NAME\u001b[0m\u001b[1;33m,\u001b[0m \u001b[1;34m'EncryptionAreaID_0'\u001b[0m\u001b[1;33m)\u001b[0m\u001b[1;33m)\u001b[0m\u001b[1;33m,\u001b[0m \u001b[1;34m'Timed out waiting for loading'\u001b[0m\u001b[1;33m)\u001b[0m\u001b[1;33m\u001b[0m\u001b[0m\n\u001b[0m\u001b[0;32m     14\u001b[0m \u001b[1;33m\u001b[0m\u001b[0m\n\u001b[0;32m     15\u001b[0m \u001b[1;31m#팝업창이동\u001b[0m\u001b[1;33m\u001b[0m\u001b[1;33m\u001b[0m\u001b[0m\n",
      "\u001b[1;32m~\\Anaconda3\\lib\\site-packages\\selenium\\webdriver\\support\\wait.py\u001b[0m in \u001b[0;36muntil\u001b[1;34m(self, method, message)\u001b[0m\n\u001b[0;32m     75\u001b[0m                 \u001b[0mscreen\u001b[0m \u001b[1;33m=\u001b[0m \u001b[0mgetattr\u001b[0m\u001b[1;33m(\u001b[0m\u001b[0mexc\u001b[0m\u001b[1;33m,\u001b[0m \u001b[1;34m'screen'\u001b[0m\u001b[1;33m,\u001b[0m \u001b[1;32mNone\u001b[0m\u001b[1;33m)\u001b[0m\u001b[1;33m\u001b[0m\u001b[0m\n\u001b[0;32m     76\u001b[0m                 \u001b[0mstacktrace\u001b[0m \u001b[1;33m=\u001b[0m \u001b[0mgetattr\u001b[0m\u001b[1;33m(\u001b[0m\u001b[0mexc\u001b[0m\u001b[1;33m,\u001b[0m \u001b[1;34m'stacktrace'\u001b[0m\u001b[1;33m,\u001b[0m \u001b[1;32mNone\u001b[0m\u001b[1;33m)\u001b[0m\u001b[1;33m\u001b[0m\u001b[0m\n\u001b[1;32m---> 77\u001b[1;33m             \u001b[0mtime\u001b[0m\u001b[1;33m.\u001b[0m\u001b[0msleep\u001b[0m\u001b[1;33m(\u001b[0m\u001b[0mself\u001b[0m\u001b[1;33m.\u001b[0m\u001b[0m_poll\u001b[0m\u001b[1;33m)\u001b[0m\u001b[1;33m\u001b[0m\u001b[0m\n\u001b[0m\u001b[0;32m     78\u001b[0m             \u001b[1;32mif\u001b[0m \u001b[0mtime\u001b[0m\u001b[1;33m.\u001b[0m\u001b[0mtime\u001b[0m\u001b[1;33m(\u001b[0m\u001b[1;33m)\u001b[0m \u001b[1;33m>\u001b[0m \u001b[0mend_time\u001b[0m\u001b[1;33m:\u001b[0m\u001b[1;33m\u001b[0m\u001b[0m\n\u001b[0;32m     79\u001b[0m                 \u001b[1;32mbreak\u001b[0m\u001b[1;33m\u001b[0m\u001b[0m\n",
      "\u001b[1;31mKeyboardInterrupt\u001b[0m: "
     ]
    }
   ],
   "source": [
    "#출력 못하는 경우(총괄이 없고 일반만 있음)\n",
    "ele = driver.find_element_by_css_selector('#frm_main > div.form-write-wrap.mt40 > div > div > div > div')\n",
    "ele.text == '해당주소에 대한 정보가 없습니다.\\n건축물주소 또는 대장구분(종류) 수정 후 [민원신청하기]버튼을 선택하시기 바랍니다.'\n",
    "\n",
    "#일반클릭\n",
    "ele = driver.find_element_by_css_selector('#dis_1 > label:nth-child(4) > span.kor')\n",
    "ele.click()\n",
    "\n",
    "#동명검색 \n",
    "ele = driver.find_element_by_css_selector('#동명검색')\n",
    "ele.click()\n",
    "time.sleep(1)\n",
    "wait = WebDriverWait(driver, 360).until(EC.element_to_be_clickable((By.CLASS_NAME, 'EncryptionAreaID_0')), 'Timed out waiting for loading')\n",
    "\n",
    "#팝업창이동\n",
    "all_windows = driver.window_handles \n",
    "parent_window = all_windows[0] \n",
    "child_window = all_windows[1] \n",
    "driver.switch_to.window(child_window) \n",
    "time.sleep(1)\n",
    "#선택버튼\n",
    "ele = driver.find_element_by_css_selector('body > div > div > div > table > tbody > tr > td:nth-child(4) > span > button')\n",
    "ele.click()\n",
    "time.sleep(1)\n",
    "#복귀\n",
    "driver.switch_to.window(parent_window)\n",
    "time.sleep(1)\n",
    "\n",
    "#민원신청\n",
    "ele = driver.find_element_by_css_selector('#btn_end')\n",
    "ele.click()\n",
    "time.sleep(2)"
   ]
  },
  {
   "cell_type": "markdown",
   "metadata": {},
   "source": [
    "### 최종페이즈\n",
    "클릭후 인쇄는 나중에 \n",
    "모든 건축물대장 열람후 데이터프레임 생성"
   ]
  },
  {
   "cell_type": "code",
   "execution_count": 64,
   "metadata": {
    "ExecuteTime": {
     "end_time": "2021-01-26T04:51:59.542127Z",
     "start_time": "2021-01-26T04:51:59.470110Z"
    }
   },
   "outputs": [],
   "source": [
    "#서비스신청내역 \n",
    "##EncryptionAreaID_0 > div.tbl-list.border > table > tbody > tr:nth-child(1) > td.cs-state > p:nth-child(2) > span > a\n",
    "#열람문서버튼 tr:nth-child가 계속 변경되는 구조\n",
    "ele = driver.find_element_by_css_selector('#EncryptionAreaID_0 > div.tbl-list.border > table > tbody > tr:nth-child(2) > td.cs-state > p:nth-child(2) > span > a')\n",
    "ele.click()"
   ]
  },
  {
   "cell_type": "code",
   "execution_count": 336,
   "metadata": {
    "ExecuteTime": {
     "end_time": "2021-01-26T09:23:55.330136Z",
     "start_time": "2021-01-26T09:23:53.270921Z"
    }
   },
   "outputs": [],
   "source": [
    "#팝업창이동\n",
    "all_windows = driver.window_handles \n",
    "parent_window = all_windows[0] \n",
    "child_window = all_windows[1] \n",
    "driver.switch_to.window(child_window) \n",
    "\n",
    "source = driver.page_source\n",
    "soup = BeautifulSoup(source,'html.parser')\n",
    "\n",
    "save_dict = dict()\n",
    "\n",
    "save_dict['대지위치'] = soup.select('td.L_T1.L_R1B1.P_LT1')[0].text\n",
    "save_dict['지번'] = soup.select('td.L_R1B1.P_R1')[0].text\n",
    "save_dict['도로명주소'] = soup.select('td.L_T1.L_B1.P_RB1')[0].text\n",
    "save_dict['대지면적'] = soup.select('td.L_R1B1.P_R1')[1].text\n",
    "save_dict['연면적'] = soup.select('td.L_R1B1.P_R1')[2].text\n",
    "save_dict['계획관리지역'] = soup.select('td.L_R1B1.P_R1')[3].text\n",
    "save_dict['지구'] = soup.select('td.L_R1B1.P_R1')[4].text\n",
    "save_dict['건축면적'] = soup.select('td.L_R1B1.P_R1')[5].text\n",
    "save_dict['용적률산정용연면적'] = soup.select('td.L_R1B1.P_R1')[6].text\n",
    "save_dict['주구조'] = soup.select('td.L_R1B1.P_R1')[7].text\n",
    "save_dict['주용도'] = soup.select('td.L_R1B1.P_R1')[8].text\n",
    "save_dict['층수'] = soup.select('td.L_B1.P_R1')[1].text\n",
    "save_dict['건폐율'] = soup.select('td.L_R1B1.P_R1')[9].text\n",
    "save_dict['용적률'] = soup.select('td.L_R1B1.P_R1')[10].text\n",
    "save_dict['높이'] = soup.select('td.L_R1B1.P_R1')[11].text\n",
    "save_dict['지붕'] = soup.select('td.L_R1B1.P_R1')[12].text\n",
    "\n",
    "save_dict['허가일'] = soup.select('td.L_B1.P_RB1')[3].text\n",
    "save_dict['착공일'] = soup.select('td.L_B1.P_RB1')[4].text\n",
    "save_dict['사용승인일'] = soup.select('td.L_B1.P_RB1')[5].text\n",
    "\n",
    "add = save_dict['대지위치'] +\" \" + save_dict['지번']\n",
    "\n",
    "fin_dict[add] = save_dict"
   ]
  },
  {
   "cell_type": "code",
   "execution_count": 384,
   "metadata": {
    "ExecuteTime": {
     "end_time": "2021-01-26T10:00:01.969115Z",
     "start_time": "2021-01-26T10:00:01.961121Z"
    }
   },
   "outputs": [],
   "source": [
    "pd.DataFrame(fin_dict).T.to_csv('건축물대장(일부).csv',encoding= 'cp949')"
   ]
  },
  {
   "cell_type": "code",
   "execution_count": null,
   "metadata": {},
   "outputs": [],
   "source": []
  }
 ],
 "metadata": {
  "kernelspec": {
   "display_name": "Python 3",
   "language": "python",
   "name": "python3"
  },
  "language_info": {
   "codemirror_mode": {
    "name": "ipython",
    "version": 3
   },
   "file_extension": ".py",
   "mimetype": "text/x-python",
   "name": "python",
   "nbconvert_exporter": "python",
   "pygments_lexer": "ipython3",
   "version": "3.6.5"
  },
  "toc": {
   "base_numbering": 1,
   "nav_menu": {},
   "number_sections": true,
   "sideBar": true,
   "skip_h1_title": false,
   "title_cell": "Table of Contents",
   "title_sidebar": "Contents",
   "toc_cell": false,
   "toc_position": {},
   "toc_section_display": true,
   "toc_window_display": false
  },
  "varInspector": {
   "cols": {
    "lenName": 16,
    "lenType": 16,
    "lenVar": 40
   },
   "kernels_config": {
    "python": {
     "delete_cmd_postfix": "",
     "delete_cmd_prefix": "del ",
     "library": "var_list.py",
     "varRefreshCmd": "print(var_dic_list())"
    },
    "r": {
     "delete_cmd_postfix": ") ",
     "delete_cmd_prefix": "rm(",
     "library": "var_list.r",
     "varRefreshCmd": "cat(var_dic_list()) "
    }
   },
   "types_to_exclude": [
    "module",
    "function",
    "builtin_function_or_method",
    "instance",
    "_Feature"
   ],
   "window_display": false
  }
 },
 "nbformat": 4,
 "nbformat_minor": 2
}
