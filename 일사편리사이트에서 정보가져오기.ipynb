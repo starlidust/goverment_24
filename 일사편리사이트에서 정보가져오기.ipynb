{
 "cells": [
  {
   "cell_type": "code",
   "execution_count": 67,
   "metadata": {
    "ExecuteTime": {
     "end_time": "2021-01-26T01:12:54.988317Z",
     "start_time": "2021-01-26T01:12:54.984325Z"
    }
   },
   "outputs": [],
   "source": [
    "from selenium import webdriver\n",
    "from selenium.webdriver.support.ui import WebDriverWait\n",
    "from selenium.webdriver.support import expected_conditions as EC\n",
    "from selenium.webdriver.chrome.options import Options\n",
    "from selenium.common.exceptions import TimeoutException\n",
    "import time\n",
    "from bs4 import BeautifulSoup\n",
    "from tqdm.notebook import tqdm\n",
    "import pandas as pd\n",
    "from datetime import datetime"
   ]
  },
  {
   "cell_type": "code",
   "execution_count": 68,
   "metadata": {
    "ExecuteTime": {
     "end_time": "2021-01-26T01:12:55.331394Z",
     "start_time": "2021-01-26T01:12:55.320392Z"
    }
   },
   "outputs": [],
   "source": [
    "url = 'http://kras.gyeongnam.go.kr/land_info/info/baseInfo/baseInfo.do'\n",
    "df = pd.read_excel('./output/거제 내 풀빌라 업체 위치.xlsx')\n",
    "address_list = df['주소'].values"
   ]
  },
  {
   "cell_type": "code",
   "execution_count": 76,
   "metadata": {
    "ExecuteTime": {
     "end_time": "2021-01-26T02:20:05.921060Z",
     "start_time": "2021-01-26T02:20:05.911057Z"
    }
   },
   "outputs": [],
   "source": [
    "def get_realestimate_info(url,df,address_list,headless = True):\n",
    "    '''검색할 url과 도로명주소 목록을 넣으면 일사편리 사이트에서 정보를 조회\n",
    "    parameter\n",
    "    --------\n",
    "    url(url) : 해당 지역의 url ex) 경남검색시, 경남url\n",
    "    df(DatFrame) : 기존파일\n",
    "    address_list(list) : 검색하고자하는 도로명주소\n",
    "    headless(bool) : 작동창 on/off\n",
    "    output\n",
    "    ------\n",
    "    \n",
    "    '''\n",
    "    headers = {'user-agent': 'Mozilla/5.0 (Windows NT 10.0; Win64; x64) AppleWebKit/537.36 (KHTML, like Gecko) Chrome/79.0.3945.130 Safari/537.36'}\n",
    "    options = Options()\n",
    "    options.add_argument('--start-maximized') #big size\n",
    "    options.add_argument(f'user-agent={headers}')\n",
    "    if headless:\n",
    "        options.add_argument('--headless') #headless\n",
    "    driver = webdriver.Chrome(executable_path='./chromedriver', chrome_options=options)\n",
    "\n",
    "    driver.get(url) \n",
    "\n",
    "    index_dict = dict()\n",
    "    for index, address in tqdm(enumerate(address_list)):\n",
    "        try :\n",
    "            save_dict = dict()\n",
    "            #도로명주소 클릭\n",
    "            ele = driver.find_element_by_css_selector('#searchType5')\n",
    "            ele.click()\n",
    "            time.sleep(1)\n",
    "            all_windows = driver.window_handles \n",
    "\n",
    "            parent_window = all_windows[0] \n",
    "            child_window = all_windows[1] \n",
    "            driver.switch_to.window(child_window) #팝업창이동\n",
    "\n",
    "            ele = driver.find_element_by_css_selector('#keyword')\n",
    "            ele.send_keys(address)\n",
    "            time.sleep(1)\n",
    "            ele = driver.find_element_by_css_selector('#searchContentBox > div.search-wrap > fieldset > span > input[type=button]:nth-child(2)')\n",
    "            ele.click()\n",
    "            time.sleep(1)\n",
    "            ele = driver.find_element_by_css_selector('#roadAddrDiv1')\n",
    "            ele.click()\n",
    "            time.sleep(1)\n",
    "            ele = driver.find_element_by_css_selector('#resultData > div > a')\n",
    "            ele.click()\n",
    "            time.sleep(1)\n",
    "            driver.switch_to.window(parent_window) #원래로 복귀\n",
    "            time.sleep(5) #검색소요시간 \n",
    "\n",
    "            #기본정보\n",
    "            ele = driver.find_element_by_css_selector('#tab0301 > li:nth-child(1) > a')\n",
    "            ele.click()\n",
    "\n",
    "            source = driver.page_source\n",
    "            soup = BeautifulSoup(source,'html.parser')\n",
    "            body = soup.select('#t01')[0].text\n",
    "\n",
    "            #임시저장\n",
    "            save_dict['주소'] = address\n",
    "            save_dict['면적'] = body.split('면적')[1].split('\\n')[1]\n",
    "            save_dict['개별공시지가'] = body.split('개별공시지가')[1].split('\\n')[5].replace('\\t','')\n",
    "            save_dict['건물명칭'] = body.split('건물명칭')[1].split('\\n')[1]\n",
    "            save_dict['주용도'] = body.split('주용도')[1].split('\\n')[1]\n",
    "            save_dict['대지면적'] = body.split('대지면적')[1].split('\\n')[1]\n",
    "            save_dict['연면적'] = body.split('연면적')[1].split('\\n')[1]\n",
    "            save_dict['건축물수'] = body.split('건축물수')[1].split('\\n')[1]\n",
    "            save_dict['건출면적'] = body.split('건축면적')[1].split('\\n')[1]\n",
    "            save_dict['건폐율'] = body.split('건폐율')[1].split('\\n')[1]\n",
    "            save_dict['용적률'] = body.split('용적률')[1].split('\\n')[1]\n",
    "            save_dict['토지소재지'] = soup.select('#landUse_print > table:nth-of-type(1) > tbody > tr > td:nth-of-type(1)')[0].text\n",
    "            save_dict['지번'] = soup.select('#landUse_print > table:nth-of-type(1) > tbody > tr > td:nth-of-type(2)')[0].text\n",
    "            save_dict['지목'] = body.split('지목')[1].split('\\n')[1]\n",
    "\n",
    "            #종합저장\n",
    "            index_dict[index] = save_dict\n",
    "            time.sleep(2)\n",
    "        except :\n",
    "            try:\n",
    "                WebDriverWait(driver, 5).until(EC.alert_is_present(), 'Timed out waiting for alerts to appear')\n",
    "                alert = driver.switch_to.alert\n",
    "                alert.accept()\n",
    "                time.sleep(0.5)\n",
    "                print(f\"{address}:alert accepted\")\n",
    "            except TimeoutException:\n",
    "                print(f\"{address}:no alert\")\n",
    "            pass\n",
    "    #결과저장\n",
    "    result_df = pd.DataFrame(index_dict).T\n",
    "    result_df = df.merge(result_df,right_on='주소',left_on = '주소',how ='left')\n",
    "    result_df = result_df.drop_duplicates().reset_index(drop = True)\n",
    "    today = str(datetime.today().date())\n",
    "    result_df.to_excel(f'일사편리결과_{today}.xlsx',encoding='cp949',index= False)\n",
    "    \n",
    "    print('끝났습니다')\n",
    "    driver.close()\n",
    "    return result_df"
   ]
  },
  {
   "cell_type": "code",
   "execution_count": 77,
   "metadata": {
    "ExecuteTime": {
     "end_time": "2021-01-26T02:29:26.965333Z",
     "start_time": "2021-01-26T02:20:06.464181Z"
    }
   },
   "outputs": [
    {
     "name": "stderr",
     "output_type": "stream",
     "text": [
      "C:\\Users\\User\\Anaconda3\\lib\\site-packages\\ipykernel_launcher.py:19: DeprecationWarning: use options instead of chrome_options\n"
     ]
    },
    {
     "data": {
      "application/vnd.jupyter.widget-view+json": {
       "model_id": "a1c9b1040a9140cb98988fb695177fa7",
       "version_major": 2,
       "version_minor": 0
      },
      "text/plain": [
       "HBox(children=(FloatProgress(value=1.0, bar_style='info', max=1.0), HTML(value='')))"
      ]
     },
     "metadata": {},
     "output_type": "display_data"
    },
    {
     "name": "stdout",
     "output_type": "stream",
     "text": [
      "경상남도 거제시 옥포대첩로 429-1_no alert\n",
      "\n",
      "끝났습니다\n"
     ]
    }
   ],
   "source": [
    "result = get_realestimate_info(url,df, address_list,False)"
   ]
  },
  {
   "cell_type": "markdown",
   "metadata": {},
   "source": [
    "### 작업본"
   ]
  },
  {
   "cell_type": "code",
   "execution_count": 66,
   "metadata": {
    "ExecuteTime": {
     "end_time": "2021-01-26T01:10:15.912930Z",
     "start_time": "2021-01-26T01:09:24.521874Z"
    },
    "collapsed": true
   },
   "outputs": [
    {
     "name": "stderr",
     "output_type": "stream",
     "text": [
      "C:\\Users\\User\\Anaconda3\\lib\\site-packages\\ipykernel_launcher.py:18: DeprecationWarning: use options instead of chrome_options\n"
     ]
    },
    {
     "data": {
      "application/vnd.jupyter.widget-view+json": {
       "model_id": "8499df406f27471abff62589e3dbf0d1",
       "version_major": 2,
       "version_minor": 0
      },
      "text/plain": [
       "HBox(children=(FloatProgress(value=1.0, bar_style='info', max=1.0), HTML(value='')))"
      ]
     },
     "metadata": {},
     "output_type": "display_data"
    },
    {
     "name": "stdout",
     "output_type": "stream",
     "text": [
      "no alert\n",
      "\n"
     ]
    },
    {
     "ename": "KeyboardInterrupt",
     "evalue": "",
     "output_type": "error",
     "traceback": [
      "\u001b[1;31m---------------------------------------------------------------------------\u001b[0m",
      "\u001b[1;31mKeyboardInterrupt\u001b[0m                         Traceback (most recent call last)",
      "\u001b[1;32m<ipython-input-65-62b9b1c1ae62>\u001b[0m in \u001b[0;36mget_realestimate_info\u001b[1;34m(url, address_list, headless)\u001b[0m\n\u001b[0;32m     48\u001b[0m             \u001b[0mdriver\u001b[0m\u001b[1;33m.\u001b[0m\u001b[0mswitch_to\u001b[0m\u001b[1;33m.\u001b[0m\u001b[0mwindow\u001b[0m\u001b[1;33m(\u001b[0m\u001b[0mparent_window\u001b[0m\u001b[1;33m)\u001b[0m \u001b[1;31m#원래로 복귀\u001b[0m\u001b[1;33m\u001b[0m\u001b[0m\n\u001b[1;32m---> 49\u001b[1;33m             \u001b[0mtime\u001b[0m\u001b[1;33m.\u001b[0m\u001b[0msleep\u001b[0m\u001b[1;33m(\u001b[0m\u001b[1;36m5\u001b[0m\u001b[1;33m)\u001b[0m \u001b[1;31m#검색소요시간\u001b[0m\u001b[1;33m\u001b[0m\u001b[0m\n\u001b[0m\u001b[0;32m     50\u001b[0m \u001b[1;33m\u001b[0m\u001b[0m\n",
      "\u001b[1;31mKeyboardInterrupt\u001b[0m: ",
      "\nDuring handling of the above exception, another exception occurred:\n",
      "\u001b[1;31mKeyboardInterrupt\u001b[0m                         Traceback (most recent call last)",
      "\u001b[1;32m<ipython-input-66-01b89a5ebefd>\u001b[0m in \u001b[0;36m<module>\u001b[1;34m()\u001b[0m\n\u001b[0;32m      1\u001b[0m \u001b[0msample\u001b[0m \u001b[1;33m=\u001b[0m \u001b[0maddress_list\u001b[0m\u001b[1;33m[\u001b[0m\u001b[1;33m-\u001b[0m\u001b[1;36m5\u001b[0m\u001b[1;33m:\u001b[0m\u001b[1;33m]\u001b[0m\u001b[1;33m\u001b[0m\u001b[0m\n\u001b[1;32m----> 2\u001b[1;33m \u001b[0mresult\u001b[0m \u001b[1;33m=\u001b[0m \u001b[0mget_realestimate_info\u001b[0m\u001b[1;33m(\u001b[0m\u001b[0murl\u001b[0m\u001b[1;33m,\u001b[0m\u001b[0msample\u001b[0m\u001b[1;33m,\u001b[0m\u001b[1;32mFalse\u001b[0m\u001b[1;33m)\u001b[0m\u001b[1;33m\u001b[0m\u001b[0m\n\u001b[0m",
      "\u001b[1;32m<ipython-input-65-62b9b1c1ae62>\u001b[0m in \u001b[0;36mget_realestimate_info\u001b[1;34m(url, address_list, headless)\u001b[0m\n\u001b[0;32m     78\u001b[0m         \u001b[1;32mexcept\u001b[0m \u001b[1;33m:\u001b[0m\u001b[1;33m\u001b[0m\u001b[0m\n\u001b[0;32m     79\u001b[0m             \u001b[1;32mtry\u001b[0m\u001b[1;33m:\u001b[0m\u001b[1;33m\u001b[0m\u001b[0m\n\u001b[1;32m---> 80\u001b[1;33m                 \u001b[0mWebDriverWait\u001b[0m\u001b[1;33m(\u001b[0m\u001b[0mdriver\u001b[0m\u001b[1;33m,\u001b[0m \u001b[1;36m5\u001b[0m\u001b[1;33m)\u001b[0m\u001b[1;33m.\u001b[0m\u001b[0muntil\u001b[0m\u001b[1;33m(\u001b[0m\u001b[0mEC\u001b[0m\u001b[1;33m.\u001b[0m\u001b[0malert_is_present\u001b[0m\u001b[1;33m(\u001b[0m\u001b[1;33m)\u001b[0m\u001b[1;33m,\u001b[0m \u001b[1;34m'Timed out waiting for alerts to appear'\u001b[0m\u001b[1;33m)\u001b[0m\u001b[1;33m\u001b[0m\u001b[0m\n\u001b[0m\u001b[0;32m     81\u001b[0m                 \u001b[0malert\u001b[0m \u001b[1;33m=\u001b[0m \u001b[0mdriver\u001b[0m\u001b[1;33m.\u001b[0m\u001b[0mswitch_to\u001b[0m\u001b[1;33m.\u001b[0m\u001b[0malert\u001b[0m\u001b[1;33m\u001b[0m\u001b[0m\n\u001b[0;32m     82\u001b[0m                 \u001b[0malert\u001b[0m\u001b[1;33m.\u001b[0m\u001b[0maccept\u001b[0m\u001b[1;33m(\u001b[0m\u001b[1;33m)\u001b[0m\u001b[1;33m\u001b[0m\u001b[0m\n",
      "\u001b[1;32m~\\Anaconda3\\lib\\site-packages\\selenium\\webdriver\\support\\wait.py\u001b[0m in \u001b[0;36muntil\u001b[1;34m(self, method, message)\u001b[0m\n\u001b[0;32m     75\u001b[0m                 \u001b[0mscreen\u001b[0m \u001b[1;33m=\u001b[0m \u001b[0mgetattr\u001b[0m\u001b[1;33m(\u001b[0m\u001b[0mexc\u001b[0m\u001b[1;33m,\u001b[0m \u001b[1;34m'screen'\u001b[0m\u001b[1;33m,\u001b[0m \u001b[1;32mNone\u001b[0m\u001b[1;33m)\u001b[0m\u001b[1;33m\u001b[0m\u001b[0m\n\u001b[0;32m     76\u001b[0m                 \u001b[0mstacktrace\u001b[0m \u001b[1;33m=\u001b[0m \u001b[0mgetattr\u001b[0m\u001b[1;33m(\u001b[0m\u001b[0mexc\u001b[0m\u001b[1;33m,\u001b[0m \u001b[1;34m'stacktrace'\u001b[0m\u001b[1;33m,\u001b[0m \u001b[1;32mNone\u001b[0m\u001b[1;33m)\u001b[0m\u001b[1;33m\u001b[0m\u001b[0m\n\u001b[1;32m---> 77\u001b[1;33m             \u001b[0mtime\u001b[0m\u001b[1;33m.\u001b[0m\u001b[0msleep\u001b[0m\u001b[1;33m(\u001b[0m\u001b[0mself\u001b[0m\u001b[1;33m.\u001b[0m\u001b[0m_poll\u001b[0m\u001b[1;33m)\u001b[0m\u001b[1;33m\u001b[0m\u001b[0m\n\u001b[0m\u001b[0;32m     78\u001b[0m             \u001b[1;32mif\u001b[0m \u001b[0mtime\u001b[0m\u001b[1;33m.\u001b[0m\u001b[0mtime\u001b[0m\u001b[1;33m(\u001b[0m\u001b[1;33m)\u001b[0m \u001b[1;33m>\u001b[0m \u001b[0mend_time\u001b[0m\u001b[1;33m:\u001b[0m\u001b[1;33m\u001b[0m\u001b[0m\n\u001b[0;32m     79\u001b[0m                 \u001b[1;32mbreak\u001b[0m\u001b[1;33m\u001b[0m\u001b[0m\n",
      "\u001b[1;31mKeyboardInterrupt\u001b[0m: "
     ]
    }
   ],
   "source": [
    "sample = address_list[-5:]\n",
    "result = get_realestimate_info(url,sample,False)"
   ]
  },
  {
   "cell_type": "code",
   "execution_count": 56,
   "metadata": {
    "ExecuteTime": {
     "end_time": "2021-01-26T01:01:58.035159Z",
     "start_time": "2021-01-26T01:01:53.438565Z"
    }
   },
   "outputs": [
    {
     "name": "stderr",
     "output_type": "stream",
     "text": [
      "C:\\Users\\User\\Anaconda3\\lib\\site-packages\\ipykernel_launcher.py:7: DeprecationWarning: use options instead of chrome_options\n",
      "  import sys\n"
     ]
    }
   ],
   "source": [
    "headers = {'user-agent': 'Mozilla/5.0 (Windows NT 10.0; Win64; x64) AppleWebKit/537.36 (KHTML, like Gecko) Chrome/79.0.3945.130 Safari/537.36'}\n",
    "options = Options()\n",
    "options.add_argument('--start-maximized') #big size\n",
    "options.add_argument(f'user-agent={headers}')\n",
    "if headless:\n",
    "    options.add_argument('--headless') #headless\n",
    "driver = webdriver.Chrome(executable_path='./chromedriver', chrome_options=options)\n",
    "\n",
    "driver.get(url) "
   ]
  },
  {
   "cell_type": "code",
   "execution_count": 57,
   "metadata": {
    "ExecuteTime": {
     "end_time": "2021-01-26T01:01:58.057163Z",
     "start_time": "2021-01-26T01:01:58.054164Z"
    }
   },
   "outputs": [],
   "source": [
    "sample = address_list[-5:]"
   ]
  },
  {
   "cell_type": "code",
   "execution_count": 59,
   "metadata": {
    "ExecuteTime": {
     "end_time": "2021-01-26T01:02:29.146764Z",
     "start_time": "2021-01-26T01:02:29.143764Z"
    }
   },
   "outputs": [],
   "source": [
    "address =sample[1]"
   ]
  },
  {
   "cell_type": "code",
   "execution_count": 60,
   "metadata": {
    "ExecuteTime": {
     "end_time": "2021-01-26T01:02:42.906187Z",
     "start_time": "2021-01-26T01:02:30.151971Z"
    }
   },
   "outputs": [],
   "source": [
    "save_dict = dict()\n",
    "#도로명주소 클릭\n",
    "ele = driver.find_element_by_css_selector('#searchType5')\n",
    "ele.click()\n",
    "time.sleep(1)\n",
    "all_windows = driver.window_handles \n",
    "\n",
    "parent_window = all_windows[0] \n",
    "child_window = all_windows[1] \n",
    "driver.switch_to.window(child_window) #팝업창이동\n",
    "\n",
    "ele = driver.find_element_by_css_selector('#keyword')\n",
    "ele.send_keys(address)\n",
    "time.sleep(1)\n",
    "ele = driver.find_element_by_css_selector('#searchContentBox > div.search-wrap > fieldset > span > input[type=button]:nth-child(2)')\n",
    "ele.click()\n",
    "time.sleep(1)\n",
    "ele = driver.find_element_by_css_selector('#roadAddrDiv1')\n",
    "ele.click()\n",
    "time.sleep(1)\n",
    "ele = driver.find_element_by_css_selector('#resultData > div > a')\n",
    "ele.click()\n",
    "time.sleep(1)\n",
    "driver.switch_to.window(parent_window) #원래로 복귀\n",
    "time.sleep(5) #검색소요시간"
   ]
  },
  {
   "cell_type": "code",
   "execution_count": 39,
   "metadata": {
    "ExecuteTime": {
     "end_time": "2021-01-26T00:43:47.589166Z",
     "start_time": "2021-01-26T00:43:45.582712Z"
    }
   },
   "outputs": [
    {
     "name": "stderr",
     "output_type": "stream",
     "text": [
      "C:\\Users\\User\\Anaconda3\\lib\\site-packages\\ipykernel_launcher.py:2: DeprecationWarning: use driver.switch_to.alert instead\n",
      "  \n"
     ]
    }
   ],
   "source": [
    "#에러 발생상황\n",
    "result = driver.switch_to_alert()\n",
    "result.accept()\n",
    "time.sleep(2)"
   ]
  },
  {
   "cell_type": "code",
   "execution_count": null,
   "metadata": {},
   "outputs": [],
   "source": [
    "ndex_dict = dict()\n",
    "    for index, address in tqdm(enumerate(sample)):\n",
    "        try :\n",
    "            save_dict = dict()\n",
    "            #도로명주소 클릭\n",
    "            ele = driver.find_element_by_css_selector('#searchType5')\n",
    "            ele.click()\n",
    "            time.sleep(1)\n",
    "            all_windows = driver.window_handles \n",
    "\n",
    "            parent_window = all_windows[0] \n",
    "            child_window = all_windows[1] \n",
    "            driver.switch_to.window(child_window) #팝업창이동\n",
    "\n",
    "            ele = driver.find_element_by_css_selector('#keyword')\n",
    "            ele.send_keys(address)\n",
    "            time.sleep(1)\n",
    "            ele = driver.find_element_by_css_selector('#searchContentBox > div.search-wrap > fieldset > span > input[type=button]:nth-child(2)')\n",
    "            ele.click()\n",
    "            time.sleep(1)\n",
    "            ele = driver.find_element_by_css_selector('#roadAddrDiv1')\n",
    "            ele.click()\n",
    "            time.sleep(1)\n",
    "            ele = driver.find_element_by_css_selector('#resultData > div > a')\n",
    "            ele.click()\n",
    "            time.sleep(1)\n",
    "            driver.switch_to.window(parent_window) #원래로 복귀\n",
    "            time.sleep(5) #검색소요시간 \n",
    "\n",
    "            #기본정보\n",
    "            ele = driver.find_element_by_css_selector('#tab0301 > li:nth-child(1) > a')\n",
    "            ele.click()\n",
    "\n",
    "            source = driver.page_source\n",
    "            soup = BeautifulSoup(source,'html.parser')\n",
    "            body = soup.select('#t01')[0].text\n",
    "\n",
    "            #임시저장\n",
    "            save_dict['주소'] = address\n",
    "            save_dict['면적'] = body.split('면적')[1].split('\\n')[1]\n",
    "            save_dict['개별공시지가'] = body.split('개별공시지가')[1].split('\\n')[5].replace('\\t','')\n",
    "            save_dict['건물명칭'] = body.split('건물명칭')[1].split('\\n')[1]\n",
    "            save_dict['주용도'] = body.split('주용도')[1].split('\\n')[1]\n",
    "            save_dict['대지면적'] = body.split('대지면적')[1].split('\\n')[1]\n",
    "            save_dict['연면적'] = body.split('연면적')[1].split('\\n')[1]\n",
    "            save_dict['건축물수'] = body.split('건축물수')[1].split('\\n')[1]\n",
    "            save_dict['건출면적'] = body.split('건축면적')[1].split('\\n')[1]\n",
    "            save_dict['건폐율'] = body.split('건폐율')[1].split('\\n')[1]\n",
    "            save_dict['용적률'] = body.split('용적률')[1].split('\\n')[1]\n",
    "            save_dict['토지소재지'] = soup.select('#landUse_print > table:nth-of-type(1) > tbody > tr > td:nth-of-type(1)')[0].text\n",
    "            save_dict['지번'] = soup.select('#landUse_print > table:nth-of-type(1) > tbody > tr > td:nth-of-type(2)')[0].text\n",
    "            save_dict['지목'] = body.split('지목')[1].split('\\n')[1]\n",
    "\n",
    "            #종합저장\n",
    "            index_dict[index] = save_dict\n",
    "            time.sleep(2)\n",
    "        except :\n",
    "            result = driver.switch_to_alert()\n",
    "            result.accept()\n",
    "            pass\n",
    "    #결과저장\n",
    "    result_df = pd.DataFrame(index_dict).T\n",
    "    df = df.merge(result_df,right_on='도로명주소',left_on = '주소',how ='left')\n",
    "    df = df.drop_duplicates().reset_index(drop = True)\n",
    "    today = str(datetime.today().date())\n",
    "    df.to_excel(f'일사편리결과_{today}.xlsx',encoding='cp949',index= False)\n",
    "    \n",
    "    print('끝났습니다')\n",
    "    driver.close()\n",
    "    return df"
   ]
  }
 ],
 "metadata": {
  "kernelspec": {
   "display_name": "Python 3",
   "language": "python",
   "name": "python3"
  },
  "language_info": {
   "codemirror_mode": {
    "name": "ipython",
    "version": 3
   },
   "file_extension": ".py",
   "mimetype": "text/x-python",
   "name": "python",
   "nbconvert_exporter": "python",
   "pygments_lexer": "ipython3",
   "version": "3.6.5"
  },
  "toc": {
   "base_numbering": 1,
   "nav_menu": {},
   "number_sections": true,
   "sideBar": true,
   "skip_h1_title": false,
   "title_cell": "Table of Contents",
   "title_sidebar": "Contents",
   "toc_cell": false,
   "toc_position": {},
   "toc_section_display": true,
   "toc_window_display": false
  },
  "varInspector": {
   "cols": {
    "lenName": 16,
    "lenType": 16,
    "lenVar": 40
   },
   "kernels_config": {
    "python": {
     "delete_cmd_postfix": "",
     "delete_cmd_prefix": "del ",
     "library": "var_list.py",
     "varRefreshCmd": "print(var_dic_list())"
    },
    "r": {
     "delete_cmd_postfix": ") ",
     "delete_cmd_prefix": "rm(",
     "library": "var_list.r",
     "varRefreshCmd": "cat(var_dic_list()) "
    }
   },
   "types_to_exclude": [
    "module",
    "function",
    "builtin_function_or_method",
    "instance",
    "_Feature"
   ],
   "window_display": false
  }
 },
 "nbformat": 4,
 "nbformat_minor": 2
}
