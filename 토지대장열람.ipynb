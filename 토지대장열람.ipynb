{
 "cells": [
  {
   "cell_type": "code",
   "execution_count": 1,
   "metadata": {
    "ExecuteTime": {
     "end_time": "2021-03-25T02:42:53.683904Z",
     "start_time": "2021-03-25T02:42:53.255268Z"
    }
   },
   "outputs": [],
   "source": [
    "from selenium.webdriver.chrome.options import Options\n",
    "from selenium import webdriver\n",
    "from selenium.webdriver.support import expected_conditions as EC\n",
    "from selenium.webdriver.common.by import By\n",
    "from selenium.webdriver.support.ui import WebDriverWait\n",
    "from selenium.common.exceptions import UnexpectedAlertPresentException\n",
    "from bs4 import BeautifulSoup\n",
    "import time\n",
    "from tqdm.notebook import tqdm"
   ]
  },
  {
   "cell_type": "code",
   "execution_count": 4,
   "metadata": {
    "ExecuteTime": {
     "end_time": "2021-03-25T02:43:35.333272Z",
     "start_time": "2021-03-25T02:43:35.318267Z"
    }
   },
   "outputs": [],
   "source": [
    "#토지대장 열람신청 입구\n",
    "url = 'https://www.gov.kr/mw/AA020InfoCappView.do?HighCtgCD=A09005&CappBizCD=13100000026&tp_seq=01'\n",
    "# address = address_list[3]"
   ]
  },
  {
   "cell_type": "code",
   "execution_count": 8,
   "metadata": {
    "ExecuteTime": {
     "end_time": "2021-03-25T02:46:12.804844Z",
     "start_time": "2021-03-25T02:46:11.463210Z"
    }
   },
   "outputs": [
    {
     "name": "stderr",
     "output_type": "stream",
     "text": [
      "C:\\Users\\User\\Anaconda3\\lib\\site-packages\\ipykernel_launcher.py:5: DeprecationWarning: use options instead of chrome_options\n",
      "  \"\"\"\n"
     ]
    }
   ],
   "source": [
    "headers = {'user-agent': 'Mozilla/5.0 (Windows NT 10.0; Win64; x64) AppleWebKit/537.36 (KHTML, like Gecko) Chrome/79.0.3945.130 Safari/537.36'}\n",
    "options = Options()\n",
    "options.add_argument('--start-maximized') #big size\n",
    "options.add_argument(f'user-agent={headers}')\n",
    "driver = webdriver.Chrome(executable_path='chromedriver', chrome_options=options)"
   ]
  },
  {
   "cell_type": "markdown",
   "metadata": {},
   "source": [
    "### 반자동화"
   ]
  },
  {
   "cell_type": "code",
   "execution_count": 10,
   "metadata": {
    "ExecuteTime": {
     "end_time": "2021-03-25T02:46:50.087257Z",
     "start_time": "2021-03-25T02:46:48.958517Z"
    }
   },
   "outputs": [],
   "source": [
    "#로그인 이후 돌아가기\n",
    "driver.get(url)\n",
    "time.sleep(0.5)\n",
    "#신청하기버튼\n",
    "ele = driver.find_element_by_css_selector('#applyBtn > a')\n",
    "ele.click()"
   ]
  },
  {
   "cell_type": "code",
   "execution_count": 11,
   "metadata": {
    "ExecuteTime": {
     "end_time": "2021-03-25T02:46:58.284611Z",
     "start_time": "2021-03-25T02:46:58.206603Z"
    }
   },
   "outputs": [],
   "source": [
    "data = pd.read_excel('./토지대장/토지.xlsx')"
   ]
  },
  {
   "cell_type": "code",
   "execution_count": 12,
   "metadata": {
    "ExecuteTime": {
     "end_time": "2021-03-25T02:46:58.674699Z",
     "start_time": "2021-03-25T02:46:58.663696Z"
    }
   },
   "outputs": [],
   "source": [
    "def split_bar(x,i):\n",
    "    if i == 0:\n",
    "        try:\n",
    "            a = x.split('-')[i]\n",
    "        except:\n",
    "            a = x\n",
    "    else:\n",
    "        try:\n",
    "            a = x.split('-')[i]\n",
    "        except:\n",
    "            a = ''\n",
    "    return a\n",
    "    "
   ]
  },
  {
   "cell_type": "code",
   "execution_count": 13,
   "metadata": {
    "ExecuteTime": {
     "end_time": "2021-03-25T02:46:58.960668Z",
     "start_time": "2021-03-25T02:46:58.942665Z"
    }
   },
   "outputs": [],
   "source": [
    "import re\n",
    "pattern = re.compile('[0-9\\-]+')\n",
    "\n",
    "data['A5'] = data['A6'].apply(lambda x : re.findall(pattern, x)[0])\n",
    "a5_0 = data['A5'].apply(lambda x : split_bar(x,0))\n",
    "a5_1 = data['A5'].apply(lambda x : split_bar(x,1))\n",
    "mountain = data['A6'].apply(lambda x: x[0] == '산')\n",
    "a2 = data['A2']"
   ]
  },
  {
   "cell_type": "code",
   "execution_count": 14,
   "metadata": {
    "ExecuteTime": {
     "end_time": "2021-03-25T02:46:59.352422Z",
     "start_time": "2021-03-25T02:46:59.342419Z"
    }
   },
   "outputs": [
    {
     "data": {
      "text/plain": [
       "0      106\n",
       "1       76\n",
       "2       76\n",
       "3       30\n",
       "4       30\n",
       "      ... \n",
       "152     30\n",
       "153     95\n",
       "154     51\n",
       "155     94\n",
       "156     94\n",
       "Name: A5, Length: 157, dtype: object"
      ]
     },
     "execution_count": 14,
     "metadata": {},
     "output_type": "execute_result"
    }
   ],
   "source": [
    "a5_0"
   ]
  },
  {
   "cell_type": "code",
   "execution_count": 15,
   "metadata": {
    "ExecuteTime": {
     "end_time": "2021-03-25T02:47:00.612990Z",
     "start_time": "2021-03-25T02:47:00.584984Z"
    }
   },
   "outputs": [
    {
     "data": {
      "text/html": [
       "<div>\n",
       "<style scoped>\n",
       "    .dataframe tbody tr th:only-of-type {\n",
       "        vertical-align: middle;\n",
       "    }\n",
       "\n",
       "    .dataframe tbody tr th {\n",
       "        vertical-align: top;\n",
       "    }\n",
       "\n",
       "    .dataframe thead th {\n",
       "        text-align: right;\n",
       "    }\n",
       "</style>\n",
       "<table border=\"1\" class=\"dataframe\">\n",
       "  <thead>\n",
       "    <tr style=\"text-align: right;\">\n",
       "      <th></th>\n",
       "      <th>A0</th>\n",
       "      <th>A1</th>\n",
       "      <th>A2</th>\n",
       "      <th>A3</th>\n",
       "      <th>A4</th>\n",
       "      <th>A5</th>\n",
       "      <th>A6</th>\n",
       "      <th>A7</th>\n",
       "      <th>A8</th>\n",
       "      <th>A9</th>\n",
       "      <th>...</th>\n",
       "      <th>A14</th>\n",
       "      <th>A15</th>\n",
       "      <th>A16</th>\n",
       "      <th>A17</th>\n",
       "      <th>A18</th>\n",
       "      <th>A19</th>\n",
       "      <th>A20</th>\n",
       "      <th>A21</th>\n",
       "      <th>A22</th>\n",
       "      <th>A23</th>\n",
       "    </tr>\n",
       "  </thead>\n",
       "  <tbody>\n",
       "    <tr>\n",
       "      <th>0</th>\n",
       "      <td>4311134028101060096</td>\n",
       "      <td>4311134028</td>\n",
       "      <td>충청북도 청주시 상당구 남일면 고은리</td>\n",
       "      <td>1</td>\n",
       "      <td>토지대장</td>\n",
       "      <td>106-15</td>\n",
       "      <td>106-15 대</td>\n",
       "      <td>1</td>\n",
       "      <td>개인</td>\n",
       "      <td>1</td>\n",
       "      <td>...</td>\n",
       "      <td>ZZ</td>\n",
       "      <td>구분없음</td>\n",
       "      <td>4</td>\n",
       "      <td>주소변경</td>\n",
       "      <td>20190208</td>\n",
       "      <td>8</td>\n",
       "      <td>대</td>\n",
       "      <td>개인</td>\n",
       "      <td>722.0</td>\n",
       "      <td>2020-12-16</td>\n",
       "    </tr>\n",
       "    <tr>\n",
       "      <th>1</th>\n",
       "      <td>4311134028100760064</td>\n",
       "      <td>4311134028</td>\n",
       "      <td>충청북도 청주시 상당구 남일면 고은리</td>\n",
       "      <td>1</td>\n",
       "      <td>토지대장</td>\n",
       "      <td>76</td>\n",
       "      <td>76 대</td>\n",
       "      <td>1</td>\n",
       "      <td>개인</td>\n",
       "      <td>1</td>\n",
       "      <td>...</td>\n",
       "      <td>ZZ</td>\n",
       "      <td>구분없음</td>\n",
       "      <td>3</td>\n",
       "      <td>소유권이전</td>\n",
       "      <td>20110901</td>\n",
       "      <td>8</td>\n",
       "      <td>대</td>\n",
       "      <td>개인</td>\n",
       "      <td>598.0</td>\n",
       "      <td>2020-12-16</td>\n",
       "    </tr>\n",
       "    <tr>\n",
       "      <th>2</th>\n",
       "      <td>4311134028100760064</td>\n",
       "      <td>4311134028</td>\n",
       "      <td>충청북도 청주시 상당구 남일면 고은리</td>\n",
       "      <td>1</td>\n",
       "      <td>토지대장</td>\n",
       "      <td>76-3</td>\n",
       "      <td>76-3 도</td>\n",
       "      <td>1</td>\n",
       "      <td>개인</td>\n",
       "      <td>1</td>\n",
       "      <td>...</td>\n",
       "      <td>ZZ</td>\n",
       "      <td>구분없음</td>\n",
       "      <td>3</td>\n",
       "      <td>소유권이전</td>\n",
       "      <td>20110901</td>\n",
       "      <td>14</td>\n",
       "      <td>도로</td>\n",
       "      <td>개인</td>\n",
       "      <td>110.0</td>\n",
       "      <td>2020-12-16</td>\n",
       "    </tr>\n",
       "    <tr>\n",
       "      <th>3</th>\n",
       "      <td>4311134028200300032</td>\n",
       "      <td>4311134028</td>\n",
       "      <td>충청북도 청주시 상당구 남일면 고은리</td>\n",
       "      <td>2</td>\n",
       "      <td>임야대장</td>\n",
       "      <td>30-8</td>\n",
       "      <td>산30-8 임</td>\n",
       "      <td>1</td>\n",
       "      <td>개인</td>\n",
       "      <td>1</td>\n",
       "      <td>...</td>\n",
       "      <td>ZZ</td>\n",
       "      <td>구분없음</td>\n",
       "      <td>3</td>\n",
       "      <td>소유권이전</td>\n",
       "      <td>20190814</td>\n",
       "      <td>5</td>\n",
       "      <td>임야</td>\n",
       "      <td>개인</td>\n",
       "      <td>481.0</td>\n",
       "      <td>2020-12-16</td>\n",
       "    </tr>\n",
       "    <tr>\n",
       "      <th>4</th>\n",
       "      <td>4311134028200300032</td>\n",
       "      <td>4311134028</td>\n",
       "      <td>충청북도 청주시 상당구 남일면 고은리</td>\n",
       "      <td>2</td>\n",
       "      <td>임야대장</td>\n",
       "      <td>30-69</td>\n",
       "      <td>산30-69 임</td>\n",
       "      <td>1</td>\n",
       "      <td>개인</td>\n",
       "      <td>1</td>\n",
       "      <td>...</td>\n",
       "      <td>ZZ</td>\n",
       "      <td>구분없음</td>\n",
       "      <td>4</td>\n",
       "      <td>주소변경</td>\n",
       "      <td>20180727</td>\n",
       "      <td>5</td>\n",
       "      <td>임야</td>\n",
       "      <td>개인</td>\n",
       "      <td>898.0</td>\n",
       "      <td>2020-12-16</td>\n",
       "    </tr>\n",
       "    <tr>\n",
       "      <th>...</th>\n",
       "      <td>...</td>\n",
       "      <td>...</td>\n",
       "      <td>...</td>\n",
       "      <td>...</td>\n",
       "      <td>...</td>\n",
       "      <td>...</td>\n",
       "      <td>...</td>\n",
       "      <td>...</td>\n",
       "      <td>...</td>\n",
       "      <td>...</td>\n",
       "      <td>...</td>\n",
       "      <td>...</td>\n",
       "      <td>...</td>\n",
       "      <td>...</td>\n",
       "      <td>...</td>\n",
       "      <td>...</td>\n",
       "      <td>...</td>\n",
       "      <td>...</td>\n",
       "      <td>...</td>\n",
       "      <td>...</td>\n",
       "      <td>...</td>\n",
       "    </tr>\n",
       "    <tr>\n",
       "      <th>152</th>\n",
       "      <td>4311134028200300032</td>\n",
       "      <td>4311134028</td>\n",
       "      <td>충청북도 청주시 상당구 남일면 고은리</td>\n",
       "      <td>2</td>\n",
       "      <td>임야대장</td>\n",
       "      <td>30-65</td>\n",
       "      <td>산30-65 임</td>\n",
       "      <td>1</td>\n",
       "      <td>개인</td>\n",
       "      <td>1</td>\n",
       "      <td>...</td>\n",
       "      <td>ZZ</td>\n",
       "      <td>구분없음</td>\n",
       "      <td>3</td>\n",
       "      <td>소유권이전</td>\n",
       "      <td>20160322</td>\n",
       "      <td>5</td>\n",
       "      <td>임야</td>\n",
       "      <td>개인</td>\n",
       "      <td>660.0</td>\n",
       "      <td>2020-12-16</td>\n",
       "    </tr>\n",
       "    <tr>\n",
       "      <th>153</th>\n",
       "      <td>4311134028100950016</td>\n",
       "      <td>4311134028</td>\n",
       "      <td>충청북도 청주시 상당구 남일면 고은리</td>\n",
       "      <td>1</td>\n",
       "      <td>토지대장</td>\n",
       "      <td>95</td>\n",
       "      <td>95대</td>\n",
       "      <td>1</td>\n",
       "      <td>개인</td>\n",
       "      <td>1</td>\n",
       "      <td>...</td>\n",
       "      <td>ZZ</td>\n",
       "      <td>구분없음</td>\n",
       "      <td>3</td>\n",
       "      <td>소유권이전</td>\n",
       "      <td>20050603</td>\n",
       "      <td>8</td>\n",
       "      <td>대</td>\n",
       "      <td>개인</td>\n",
       "      <td>1504.0</td>\n",
       "      <td>2020-12-16</td>\n",
       "    </tr>\n",
       "    <tr>\n",
       "      <th>154</th>\n",
       "      <td>4311134028100510208</td>\n",
       "      <td>4311134028</td>\n",
       "      <td>충청북도 청주시 상당구 남일면 고은리</td>\n",
       "      <td>1</td>\n",
       "      <td>토지대장</td>\n",
       "      <td>51-5</td>\n",
       "      <td>51-5임</td>\n",
       "      <td>1</td>\n",
       "      <td>개인</td>\n",
       "      <td>1</td>\n",
       "      <td>...</td>\n",
       "      <td>ZZ</td>\n",
       "      <td>구분없음</td>\n",
       "      <td>4</td>\n",
       "      <td>주소변경</td>\n",
       "      <td>20130902</td>\n",
       "      <td>5</td>\n",
       "      <td>임야</td>\n",
       "      <td>개인</td>\n",
       "      <td>205.0</td>\n",
       "      <td>2020-12-16</td>\n",
       "    </tr>\n",
       "    <tr>\n",
       "      <th>155</th>\n",
       "      <td>4311134028100939776</td>\n",
       "      <td>4311134028</td>\n",
       "      <td>충청북도 청주시 상당구 남일면 고은리</td>\n",
       "      <td>1</td>\n",
       "      <td>토지대장</td>\n",
       "      <td>94</td>\n",
       "      <td>94 대</td>\n",
       "      <td>1</td>\n",
       "      <td>개인</td>\n",
       "      <td>1</td>\n",
       "      <td>...</td>\n",
       "      <td>ZZ</td>\n",
       "      <td>구분없음</td>\n",
       "      <td>3</td>\n",
       "      <td>소유권이전</td>\n",
       "      <td>20050307</td>\n",
       "      <td>8</td>\n",
       "      <td>대</td>\n",
       "      <td>개인</td>\n",
       "      <td>1511.0</td>\n",
       "      <td>2020-12-16</td>\n",
       "    </tr>\n",
       "    <tr>\n",
       "      <th>156</th>\n",
       "      <td>4311134028100939776</td>\n",
       "      <td>4311134028</td>\n",
       "      <td>충청북도 청주시 상당구 남일면 고은리</td>\n",
       "      <td>1</td>\n",
       "      <td>토지대장</td>\n",
       "      <td>94-1</td>\n",
       "      <td>94-1 대</td>\n",
       "      <td></td>\n",
       "      <td></td>\n",
       "      <td>0</td>\n",
       "      <td>...</td>\n",
       "      <td></td>\n",
       "      <td></td>\n",
       "      <td></td>\n",
       "      <td></td>\n",
       "      <td></td>\n",
       "      <td></td>\n",
       "      <td></td>\n",
       "      <td></td>\n",
       "      <td>0.0</td>\n",
       "      <td>2020-12-16</td>\n",
       "    </tr>\n",
       "  </tbody>\n",
       "</table>\n",
       "<p>157 rows × 24 columns</p>\n",
       "</div>"
      ],
      "text/plain": [
       "                      A0          A1                    A2  A3    A4      A5  \\\n",
       "0    4311134028101060096  4311134028  충청북도 청주시 상당구 남일면 고은리   1  토지대장  106-15   \n",
       "1    4311134028100760064  4311134028  충청북도 청주시 상당구 남일면 고은리   1  토지대장      76   \n",
       "2    4311134028100760064  4311134028  충청북도 청주시 상당구 남일면 고은리   1  토지대장    76-3   \n",
       "3    4311134028200300032  4311134028  충청북도 청주시 상당구 남일면 고은리   2  임야대장    30-8   \n",
       "4    4311134028200300032  4311134028  충청북도 청주시 상당구 남일면 고은리   2  임야대장   30-69   \n",
       "..                   ...         ...                   ...  ..   ...     ...   \n",
       "152  4311134028200300032  4311134028  충청북도 청주시 상당구 남일면 고은리   2  임야대장   30-65   \n",
       "153  4311134028100950016  4311134028  충청북도 청주시 상당구 남일면 고은리   1  토지대장      95   \n",
       "154  4311134028100510208  4311134028  충청북도 청주시 상당구 남일면 고은리   1  토지대장    51-5   \n",
       "155  4311134028100939776  4311134028  충청북도 청주시 상당구 남일면 고은리   1  토지대장      94   \n",
       "156  4311134028100939776  4311134028  충청북도 청주시 상당구 남일면 고은리   1  토지대장    94-1   \n",
       "\n",
       "           A6 A7  A8  A9  ... A14   A15 A16    A17       A18 A19 A20 A21  \\\n",
       "0    106-15 대  1  개인   1  ...  ZZ  구분없음   4   주소변경  20190208   8   대  개인   \n",
       "1        76 대  1  개인   1  ...  ZZ  구분없음   3  소유권이전  20110901   8   대  개인   \n",
       "2      76-3 도  1  개인   1  ...  ZZ  구분없음   3  소유권이전  20110901  14  도로  개인   \n",
       "3     산30-8 임  1  개인   1  ...  ZZ  구분없음   3  소유권이전  20190814   5  임야  개인   \n",
       "4    산30-69 임  1  개인   1  ...  ZZ  구분없음   4   주소변경  20180727   5  임야  개인   \n",
       "..        ... ..  ..  ..  ...  ..   ...  ..    ...       ...  ..  ..  ..   \n",
       "152  산30-65 임  1  개인   1  ...  ZZ  구분없음   3  소유권이전  20160322   5  임야  개인   \n",
       "153       95대  1  개인   1  ...  ZZ  구분없음   3  소유권이전  20050603   8   대  개인   \n",
       "154     51-5임  1  개인   1  ...  ZZ  구분없음   4   주소변경  20130902   5  임야  개인   \n",
       "155      94 대  1  개인   1  ...  ZZ  구분없음   3  소유권이전  20050307   8   대  개인   \n",
       "156    94-1 대          0  ...                                              \n",
       "\n",
       "        A22        A23  \n",
       "0     722.0 2020-12-16  \n",
       "1     598.0 2020-12-16  \n",
       "2     110.0 2020-12-16  \n",
       "3     481.0 2020-12-16  \n",
       "4     898.0 2020-12-16  \n",
       "..      ...        ...  \n",
       "152   660.0 2020-12-16  \n",
       "153  1504.0 2020-12-16  \n",
       "154   205.0 2020-12-16  \n",
       "155  1511.0 2020-12-16  \n",
       "156     0.0 2020-12-16  \n",
       "\n",
       "[157 rows x 24 columns]"
      ]
     },
     "execution_count": 15,
     "metadata": {},
     "output_type": "execute_result"
    }
   ],
   "source": [
    "data"
   ]
  },
  {
   "cell_type": "code",
   "execution_count": 18,
   "metadata": {
    "ExecuteTime": {
     "end_time": "2021-03-25T02:48:38.599340Z",
     "start_time": "2021-03-25T02:48:07.003662Z"
    },
    "scrolled": true
   },
   "outputs": [
    {
     "data": {
      "application/vnd.jupyter.widget-view+json": {
       "model_id": "e33a90db00ed405c9a0b537fdd159fde",
       "version_major": 2,
       "version_minor": 0
      },
      "text/plain": [
       "HBox(children=(FloatProgress(value=0.0, max=2.0), HTML(value='')))"
      ]
     },
     "metadata": {},
     "output_type": "display_data"
    },
    {
     "name": "stdout",
     "output_type": "stream",
     "text": [
      "\n"
     ]
    }
   ],
   "source": [
    "error_ls = [] #에러저장\n",
    "#for문 \n",
    "# for i in tqdm(range(0, len(data))):\n",
    "for i in tqdm(range(0, 2)):\n",
    "    try :\n",
    "        #로그인 이후 돌아가기\n",
    "        driver.get(url)\n",
    "        time.sleep(0.5)\n",
    "        #신청하기버튼\n",
    "        ele = driver.find_element_by_css_selector('#applyBtn > a')\n",
    "        ele.click()\n",
    "        wait = WebDriverWait(driver, 360).until(EC.element_to_be_clickable((By.CLASS_NAME, 'data-row-span-2')), 'Timed out waiting for loading')\n",
    "\n",
    "        #임야구분\n",
    "        if mountain[i]:\n",
    "            ele = driver.find_element_by_css_selector('#토지임야대장신청서_IN-토지임야대장신청서_대장구분_\\.라디오코드_2')\n",
    "            ele.click()\n",
    "\n",
    "        #연혁인쇄\n",
    "        ele = driver.find_element_by_css_selector('#토지임야대장신청서_IN-토지임야대장신청서_연혁인쇄선택_\\.라디오코드_1')\n",
    "        ele.click()\n",
    "        #소유자 주민번호 뒷자리\n",
    "        ele = driver.find_element_by_css_selector('#토지임야대장신청서_IN-토지임야대장신청서_소유자주번뒷자리표시\\.라디오코드_1')\n",
    "        ele.click()\n",
    "\n",
    "        #검색버튼\n",
    "        ele = driver.find_element_by_css_selector('#btnAddress')\n",
    "        ele.click()\n",
    "\n",
    "        #팝업창이동\n",
    "        all_windows = driver.window_handles \n",
    "        parent_window = all_windows[0] \n",
    "        child_window = all_windows[1] \n",
    "        driver.switch_to.window(child_window) \n",
    "        time.sleep(1)\n",
    "\n",
    "        #검색입력\n",
    "        ele = driver.find_element_by_css_selector('#txtAddr')\n",
    "        address = a2[i]\n",
    "        ele.send_keys(address)\n",
    "        time.sleep(1)\n",
    "\n",
    "        #검색클릭\n",
    "        ele = driver.find_element_by_css_selector('#frm_popup > fieldset > div > div > span > button')\n",
    "        ele.click()\n",
    "        time.sleep(1)\n",
    "\n",
    "        #검색결과에서 유사한 주소 색출(파주시, xx리)\n",
    "        a = address.split(' ')[1]\n",
    "        b = b = address.split(' ')[-1]\n",
    "\n",
    "        ele = driver.find_element_by_css_selector(f'#resultList')\n",
    "        temp = ele.text.split('\\n')\n",
    "        temp = pd.Series([(a in x)&(b in x) for x in temp])\n",
    "        postion  = temp[temp == True].index[0]+1\n",
    "\n",
    "        ele = driver.find_element_by_css_selector(f'#resultList > a:nth-child({postion}) > dl > dd > div')\n",
    "        ele.click()\n",
    "        time.sleep(0.5)\n",
    "        #복귀\n",
    "        driver.switch_to.window(parent_window) \n",
    "\n",
    "        #번지호 입력\n",
    "        ele = driver.find_element_by_css_selector('#토지임야대장신청서_IN-토지임야대장신청서_신청토지소재지_주소정보_상세주소_번지')\n",
    "        ele.send_keys(a5_0[i])\n",
    "        ele = driver.find_element_by_css_selector('#토지임야대장신청서_IN-토지임야대장신청서_신청토지소재지_주소정보_상세주소_호')\n",
    "        ele.send_keys(a5_1[i])\n",
    "\n",
    "        #출력신청\n",
    "        ele = driver.find_element_by_css_selector('#btn_end')\n",
    "        ele.click()\n",
    "\n",
    "        #출력대기\n",
    "        time.sleep(1)\n",
    "        wait = WebDriverWait(driver, 180).until(EC.element_to_be_clickable((By.ID, 'srch')), 'Timed out waiting for loading')\n",
    "    except UnexpectedAlertPresentException:\n",
    "        error_ls.append(i)\n",
    "        print(f'출력실패_{i}')\n",
    "        pass"
   ]
  },
  {
   "cell_type": "code",
   "execution_count": 249,
   "metadata": {
    "ExecuteTime": {
     "end_time": "2021-02-09T02:54:11.681986Z",
     "start_time": "2021-02-09T02:54:11.678737Z"
    }
   },
   "outputs": [
    {
     "data": {
      "text/plain": [
       "[]"
      ]
     },
     "execution_count": 249,
     "metadata": {},
     "output_type": "execute_result"
    }
   ],
   "source": [
    "error_ls"
   ]
  },
  {
   "cell_type": "markdown",
   "metadata": {},
   "source": [
    "### 에러체크\n",
    "* address 지정안되있었음"
   ]
  },
  {
   "cell_type": "code",
   "execution_count": 114,
   "metadata": {
    "ExecuteTime": {
     "end_time": "2021-02-08T07:32:02.522601Z",
     "start_time": "2021-02-08T07:32:02.519600Z"
    }
   },
   "outputs": [
    {
     "data": {
      "text/plain": [
       "[20, 33, 35, 53, 54, 55, 60, 61, 68, 69, 70, 71, 72]"
      ]
     },
     "execution_count": 114,
     "metadata": {},
     "output_type": "execute_result"
    }
   ],
   "source": [
    "error_ls"
   ]
  },
  {
   "cell_type": "code",
   "execution_count": 115,
   "metadata": {
    "ExecuteTime": {
     "end_time": "2021-02-08T07:32:59.936107Z",
     "start_time": "2021-02-08T07:32:59.932107Z"
    }
   },
   "outputs": [
    {
     "name": "stdout",
     "output_type": "stream",
     "text": [
      "604 5 False 경기도 파주시 송촌동\n",
      "1476  False 경기도 파주시 송촌동\n",
      "1474  False 경기도 파주시 송촌동\n",
      "1470  False 경기도 파주시 송촌동\n",
      "1471  False 경기도 파주시 송촌동\n",
      "1472  False 경기도 파주시 송촌동\n",
      "1477  False 경기도 파주시 송촌동\n",
      "1472 1 False 경기도 파주시 송촌동\n",
      "573 3 False 경기도 파주시 송촌동\n",
      "1475  False 경기도 파주시 송촌동\n",
      "571 3 False 경기도 파주시 송촌동\n",
      "573 2 False 경기도 파주시 송촌동\n",
      "1473  False 경기도 파주시 송촌동\n"
     ]
    }
   ],
   "source": [
    "for i in error_ls:\n",
    "    print(a5_0[i],a5_1[i],mountain[i],a2[i])"
   ]
  },
  {
   "cell_type": "markdown",
   "metadata": {},
   "source": [
    "### 작업용"
   ]
  },
  {
   "cell_type": "code",
   "execution_count": 204,
   "metadata": {
    "ExecuteTime": {
     "end_time": "2021-02-08T07:45:30.779956Z",
     "start_time": "2021-02-08T07:45:30.776955Z"
    }
   },
   "outputs": [],
   "source": [
    "i = 60"
   ]
  },
  {
   "cell_type": "code",
   "execution_count": 205,
   "metadata": {
    "ExecuteTime": {
     "end_time": "2021-02-08T07:45:31.236637Z",
     "start_time": "2021-02-08T07:45:31.233638Z"
    }
   },
   "outputs": [],
   "source": [
    "address = a2[i]"
   ]
  },
  {
   "cell_type": "code",
   "execution_count": 206,
   "metadata": {
    "ExecuteTime": {
     "end_time": "2021-02-08T07:45:31.757239Z",
     "start_time": "2021-02-08T07:45:31.681223Z"
    }
   },
   "outputs": [],
   "source": [
    "#임야구분\n",
    "if mountain[i]:\n",
    "    ele = driver.find_element_by_css_selector('#토지임야대장신청서_IN-토지임야대장신청서_대장구분_\\.라디오코드_2')\n",
    "    ele.click()\n",
    "\n",
    "#연혁인쇄\n",
    "ele = driver.find_element_by_css_selector('#토지임야대장신청서_IN-토지임야대장신청서_연혁인쇄선택_\\.라디오코드_1')\n",
    "ele.click()\n",
    "#소유자 주민번호 뒷자리\n",
    "ele = driver.find_element_by_css_selector('#토지임야대장신청서_IN-토지임야대장신청서_소유자주번뒷자리표시\\.라디오코드_1')\n",
    "ele.click()"
   ]
  },
  {
   "cell_type": "code",
   "execution_count": 207,
   "metadata": {
    "ExecuteTime": {
     "end_time": "2021-02-08T07:45:32.318364Z",
     "start_time": "2021-02-08T07:45:32.201340Z"
    }
   },
   "outputs": [],
   "source": [
    "#검색버튼\n",
    "ele = driver.find_element_by_css_selector('#btnAddress')\n",
    "ele.click()"
   ]
  },
  {
   "cell_type": "code",
   "execution_count": 208,
   "metadata": {
    "ExecuteTime": {
     "end_time": "2021-02-08T07:45:37.268433Z",
     "start_time": "2021-02-08T07:45:33.201522Z"
    }
   },
   "outputs": [],
   "source": [
    "#팝업창이동\n",
    "all_windows = driver.window_handles \n",
    "parent_window = all_windows[0] \n",
    "child_window = all_windows[1] \n",
    "driver.switch_to.window(child_window) \n",
    "time.sleep(1)\n",
    "\n",
    "#검색입력\n",
    "ele = driver.find_element_by_css_selector('#txtAddr')\n",
    "ele.send_keys(address)\n",
    "time.sleep(1)\n"
   ]
  },
  {
   "cell_type": "code",
   "execution_count": 209,
   "metadata": {
    "ExecuteTime": {
     "end_time": "2021-02-08T07:45:39.090842Z",
     "start_time": "2021-02-08T07:45:37.312443Z"
    }
   },
   "outputs": [],
   "source": [
    "#검색클릭\n",
    "ele = driver.find_element_by_css_selector('#frm_popup > fieldset > div > div > span > button')\n",
    "ele.click()\n",
    "time.sleep(1)"
   ]
  },
  {
   "cell_type": "code",
   "execution_count": 210,
   "metadata": {
    "ExecuteTime": {
     "end_time": "2021-02-08T07:45:39.531941Z",
     "start_time": "2021-02-08T07:45:39.136853Z"
    }
   },
   "outputs": [],
   "source": [
    "#검색결과에서 유사한 주소 색출(파주시, xx동)\n",
    "a = address.split(' ')[1]\n",
    "b = address.split(' ')[2]\n",
    "\n",
    "ele = driver.find_element_by_css_selector(f'#resultList')\n",
    "temp = ele.text.split('\\n')\n",
    "temp = pd.Series([(a in x)&(b in x) for x in temp])\n",
    "postion  = temp[temp == True].index[0]+1\n",
    "\n",
    "ele = driver.find_element_by_css_selector(f'#resultList > a:nth-child({postion}) > dl > dd > div')\n",
    "ele.click()"
   ]
  },
  {
   "cell_type": "code",
   "execution_count": 211,
   "metadata": {
    "ExecuteTime": {
     "end_time": "2021-02-08T07:45:40.681878Z",
     "start_time": "2021-02-08T07:45:39.579951Z"
    }
   },
   "outputs": [
    {
     "name": "stdout",
     "output_type": "stream",
     "text": [
      "60 1477\n"
     ]
    }
   ],
   "source": [
    "#복귀\n",
    "driver.switch_to.window(parent_window) \n",
    "\n",
    "#번지호 입력\n",
    "ele = driver.find_element_by_css_selector('#토지임야대장신청서_IN-토지임야대장신청서_신청토지소재지_주소정보_상세주소_번지')\n",
    "bunji = a5_0[i]\n",
    "print(i,bunji)\n",
    "time.sleep(1)\n",
    "ele.send_keys(bunji)\n",
    "ele = driver.find_element_by_css_selector('#토지임야대장신청서_IN-토지임야대장신청서_신청토지소재지_주소정보_상세주소_호')\n",
    "ho = a5_1[i]\n",
    "ele.send_keys(ho)\n",
    "\n"
   ]
  },
  {
   "cell_type": "code",
   "execution_count": 212,
   "metadata": {
    "ExecuteTime": {
     "end_time": "2021-02-08T07:45:40.728888Z",
     "start_time": "2021-02-08T07:45:40.725887Z"
    }
   },
   "outputs": [
    {
     "data": {
      "text/plain": [
       "('1477', '')"
      ]
     },
     "execution_count": 212,
     "metadata": {},
     "output_type": "execute_result"
    }
   ],
   "source": [
    "bunji,ho"
   ]
  },
  {
   "cell_type": "code",
   "execution_count": 213,
   "metadata": {
    "ExecuteTime": {
     "end_time": "2021-02-08T07:45:40.851143Z",
     "start_time": "2021-02-08T07:45:40.774154Z"
    }
   },
   "outputs": [],
   "source": [
    "#출력신청\n",
    "ele = driver.find_element_by_css_selector('#btn_end')\n",
    "ele.click()"
   ]
  }
 ],
 "metadata": {
  "kernelspec": {
   "display_name": "Python 3",
   "language": "python",
   "name": "python3"
  },
  "language_info": {
   "codemirror_mode": {
    "name": "ipython",
    "version": 3
   },
   "file_extension": ".py",
   "mimetype": "text/x-python",
   "name": "python",
   "nbconvert_exporter": "python",
   "pygments_lexer": "ipython3",
   "version": "3.6.5"
  },
  "toc": {
   "base_numbering": 1,
   "nav_menu": {},
   "number_sections": true,
   "sideBar": true,
   "skip_h1_title": false,
   "title_cell": "Table of Contents",
   "title_sidebar": "Contents",
   "toc_cell": false,
   "toc_position": {},
   "toc_section_display": true,
   "toc_window_display": false
  },
  "varInspector": {
   "cols": {
    "lenName": 16,
    "lenType": 16,
    "lenVar": 40
   },
   "kernels_config": {
    "python": {
     "delete_cmd_postfix": "",
     "delete_cmd_prefix": "del ",
     "library": "var_list.py",
     "varRefreshCmd": "print(var_dic_list())"
    },
    "r": {
     "delete_cmd_postfix": ") ",
     "delete_cmd_prefix": "rm(",
     "library": "var_list.r",
     "varRefreshCmd": "cat(var_dic_list()) "
    }
   },
   "types_to_exclude": [
    "module",
    "function",
    "builtin_function_or_method",
    "instance",
    "_Feature"
   ],
   "window_display": false
  }
 },
 "nbformat": 4,
 "nbformat_minor": 2
}
